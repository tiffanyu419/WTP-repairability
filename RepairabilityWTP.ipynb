{
 "cells": [
  {
   "cell_type": "markdown",
   "id": "fe5f1f8f-ed13-45ac-ab8e-0d5a4504b936",
   "metadata": {},
   "source": [
    "## Willingness to pay for Repairability for Mobile phones"
   ]
  },
  {
   "cell_type": "markdown",
   "id": "4ee3d784-f6ec-4e49-bfb9-e08643ad762d",
   "metadata": {},
   "source": [
    "### Set up"
   ]
  },
  {
   "cell_type": "code",
   "execution_count": 268,
   "id": "9495142a-e80c-401e-b66c-069de034dc09",
   "metadata": {},
   "outputs": [],
   "source": [
    "import pandas as pd\n",
    "import numpy as np\n",
    "import scipy.stats as st\n",
    "import matplotlib.pyplot as plt\n",
    "import scipy.stats as st\n",
    "import statsmodels.api as sm\n",
    "from sklearn.preprocessing import OneHotEncoder"
   ]
  },
  {
   "cell_type": "markdown",
   "id": "f59c7984-c4a7-4ab1-95c6-f606b8d40884",
   "metadata": {},
   "source": [
    "#### This notebook aims to provide data for insight into the Willingness to Pay for repairability of smartphones in the UK market. Data is collected through and online survey \"WTP Repairability\", then cleaned and analysed. OLS Regression models are estimated using the data. "
   ]
  },
  {
   "cell_type": "markdown",
   "id": "6ee519a1-7f7d-4138-9c49-1bc375a07712",
   "metadata": {
    "tags": []
   },
   "source": [
    "### Import survey data"
   ]
  },
  {
   "cell_type": "code",
   "execution_count": 269,
   "id": "be77ffac-ed5e-43c4-b8f9-29e9b6a8f1b8",
   "metadata": {},
   "outputs": [],
   "source": [
    "data = pd.read_csv('data/survey_data_final.csv')\n",
    "data = data.iloc[2:, :]"
   ]
  },
  {
   "cell_type": "markdown",
   "id": "bc70e083-d5cb-454e-9cf5-dea5813b245d",
   "metadata": {
    "tags": []
   },
   "source": [
    "### Data Cleaning and Exploration"
   ]
  },
  {
   "cell_type": "code",
   "execution_count": 270,
   "id": "d19bd400-1caf-4575-a81a-42aa2851edce",
   "metadata": {},
   "outputs": [],
   "source": [
    "# Function to save value counts from data before cleaning\n",
    "def save_count_data(data, category, col_name, count_data):\n",
    "    temp_df = data[category].value_counts().rename_axis('subcategory').reset_index(name='counts')\n",
    "    temp_df['category'] = col_name\n",
    "    count_data = pd.concat([count_data, temp_df], ignore_index=True)\n",
    "    return count_data"
   ]
  },
  {
   "cell_type": "code",
   "execution_count": 271,
   "id": "37ccce5a-66c1-4206-897c-99eafc6973d8",
   "metadata": {},
   "outputs": [],
   "source": [
    "# Counts for invalid data before dropping\n",
    "count_data = data.Finished.value_counts().rename_axis('subcategory').reset_index(name='counts')\n",
    "count_data['category'] = \"Finished survey\"\n",
    "\n",
    "count_data = save_count_data(data, 'Phone ownership', 'Phone ownership', count_data)"
   ]
  },
  {
   "cell_type": "code",
   "execution_count": 272,
   "id": "cd62be70-6c8c-48b6-8668-c0c4e78ec3c4",
   "metadata": {},
   "outputs": [
    {
     "name": "stdout",
     "output_type": "stream",
     "text": [
      "Before dropping: (429, 47)\n",
      "After dropping: (310, 47)\n"
     ]
    }
   ],
   "source": [
    "## Drop invalid rows (not finished surveys, no data consents and contract still paying, missing value)\n",
    "print(\"Before dropping:\", data.shape)\n",
    "data = data.drop(data[data.Consent != \"Yes\"].index)\n",
    "data = data.drop(data[data.Finished != \"True\"].index)\n",
    "data = data.drop(data[data[\"Phone ownership\"] == \"Bought on contract - still paying\"].index)\n",
    "data = data.drop(data[data['phone cost_1'].isnull()].index)\n",
    "print(\"After dropping:\", data.shape)"
   ]
  },
  {
   "cell_type": "code",
   "execution_count": 273,
   "id": "a61dfe96-4188-4881-a30d-ae61ac00563a",
   "metadata": {},
   "outputs": [
    {
     "name": "stdout",
     "output_type": "stream",
     "text": [
      "Rows: 310  Columns: 29\n"
     ]
    }
   ],
   "source": [
    "## Select desired columns from responses and reformat column names\n",
    "wanted_cols = ['Phone ownership',\n",
    "               'Phone ownership_4_TEXT',\n",
    "               'phone cost_1',\n",
    "               'State of phone',\n",
    "               'State of phone_5_TEXT',\n",
    "               'Brand of phone',\n",
    "               'Brand of phone_4_TEXT',\n",
    "               'Attachments_1',\n",
    "               'Attachments_2',\n",
    "               'Attachments_3',\n",
    "               'Attachments_4',\n",
    "               'env - q_1',\n",
    "               'env - why?',\n",
    "               'env - why?_4_TEXT',\n",
    "               'control - q_1',\n",
    "               'control - why',\n",
    "               'control - why_4_TEXT',\n",
    "               'gov - q_1',\n",
    "               'gov - why',\n",
    "               'gov - why_4_TEXT',\n",
    "               'Gender',\n",
    "               'Gender_4_TEXT',\n",
    "               'Age',\n",
    "               'Ethnicity',\n",
    "               'Education',\n",
    "               'Education_8_TEXT',\n",
    "               'Employment status',\n",
    "               'Income',\n",
    "               'Family size']\n",
    "responses = data.filter(wanted_cols, axis=1)\n",
    "\n",
    "# Renaming columns\n",
    "responses = responses.rename(columns={'phone cost_1':'phone_cost',\n",
    "                                      'Phone ownership_4_TEXT': 'phone_ownership_response', \n",
    "                                      'Gender_4_TEXT': 'gender_response',\n",
    "                                      'Education_8_TEXT':'education_response', \n",
    "                                      'Brand of phone_4_TEXT': 'brand_phone_response',\n",
    "                                      'State of phone':'state_phone',\n",
    "                                      'Brand of phone': 'brand_phone',\n",
    "                                      'State of phone_5_TEXT':'state_phone_response'})\n",
    "\n",
    "responses = responses.rename(columns=str.lower)\n",
    "responses.columns = responses.columns.str.replace(\" \", \"_\")\n",
    "            \n",
    "print(\"Rows:\", responses.shape[0], \" Columns:\", responses.shape[1])"
   ]
  },
  {
   "cell_type": "code",
   "execution_count": 274,
   "id": "ac3b9360-0c74-4384-85ee-c354af975555",
   "metadata": {},
   "outputs": [
    {
     "name": "stdout",
     "output_type": "stream",
     "text": [
      "Rows: 310  Columns: 23\n"
     ]
    }
   ],
   "source": [
    "## Create new column Treatment (env, gov, cont) to categorise different treatments, put all WTP into one column and all whys into one column\n",
    "responses['treatment'] = ''\n",
    "responses['treatment'] = np.where(responses['env_-_q_1'].notnull(), 'env', responses['treatment'])\n",
    "responses['treatment'] = np.where(responses['gov_-_q_1'].notnull(), 'gov', responses['treatment'])\n",
    "responses['treatment'] = np.where(responses['control_-_q_1'].notnull(), 'cont', responses['treatment'])\n",
    "\n",
    "# Combining all WTP to one column\n",
    "q_cols = ['env_-_q_1', 'gov_-_q_1', 'control_-_q_1']\n",
    "responses[q_cols] = responses[q_cols].apply(pd.to_numeric)\n",
    "responses['WTP'] = responses[q_cols].sum(axis=1)\n",
    "responses = responses.drop(q_cols, axis=1)\n",
    "\n",
    "describe_WTP = responses['WTP'].describe()\n",
    "\n",
    "# Combining survey written responses\n",
    "why_cols = ['env_-_why?', 'env_-_why?_4_text', 'control_-_why', 'control_-_why_4_text', 'gov_-_why', 'gov_-_why_4_text']\n",
    "responses['WTP_response'] = responses[why_cols].fillna('').sum(axis=1)\n",
    "responses = responses.drop(why_cols, axis=1)\n",
    "\n",
    "print(\"Rows:\", responses.shape[0], \" Columns:\", responses.shape[1])"
   ]
  },
  {
   "cell_type": "code",
   "execution_count": 275,
   "id": "8c4286ba-1960-42a6-bd97-726d23464321",
   "metadata": {},
   "outputs": [],
   "source": [
    "## Willingness to pay as percentage of phone cost\n",
    "describe_p_cost = responses['phone_cost'].describe()\n",
    "\n",
    "responses['phone_cost'] = responses['phone_cost'].apply(pd.to_numeric)\n",
    "responses['WTP_per'] = np.where(responses['phone_cost'] < 1, responses['phone_cost'], responses['WTP']/(responses['phone_cost']))\n",
    "responses['WTP_per']= responses['WTP_per'].round(3)\n",
    "\n",
    "describe_WTP_per = responses['WTP_per'].describe()"
   ]
  },
  {
   "cell_type": "code",
   "execution_count": 276,
   "id": "c862fd69-9d0c-47ab-bc11-8c390d4b20ec",
   "metadata": {},
   "outputs": [
    {
     "name": "stdout",
     "output_type": "stream",
     "text": [
      "Rows: 305  Columns: 25\n"
     ]
    }
   ],
   "source": [
    "## Isolate protest zeros\n",
    "protest_statements = [\"It should be the producer's responsibility to pay\",\n",
    "                      \"Other, please specifyrepairability is important to me but i can't afford a fair phone and the cameras are rubbish on them from seeing my friends\",\n",
    "                      \"Other, please specifyPhones should be made repairable or more durable\"]\n",
    "responses['protest_flag'] = responses['WTP_response'].map(lambda res: True if (res in protest_statements) else False)\n",
    "\n",
    "# Save data on counts - on protest\n",
    "general_data = save_count_data(responses, 'protest_flag', 'Protest Flag', count_data)\n",
    "\n",
    "responses = responses.drop(responses[responses['protest_flag']== True].index) \n",
    "\n",
    "print(\"Rows:\", responses.shape[0], \" Columns:\", responses.shape[1])"
   ]
  },
  {
   "cell_type": "code",
   "execution_count": 277,
   "id": "1c7c01b8-d166-440b-bf1c-f93228193eb2",
   "metadata": {},
   "outputs": [],
   "source": [
    "# Counts for treatment, demographic variables and phone baseline information\n",
    "categories = [\"treatment\", \"gender\", \"ethnicity\", \"age\", \"education\", \"employment_status\", \"family_size\", \"income\", \"phone_ownership\", \"state_phone\", \"brand_phone\"]\n",
    "for cat in categories:\n",
    "    general_data = save_count_data(responses, cat, cat, count_data)"
   ]
  },
  {
   "cell_type": "code",
   "execution_count": 278,
   "id": "209515ea-8d08-47d7-a521-d28ddf907865",
   "metadata": {},
   "outputs": [
    {
     "data": {
      "image/png": "[encoded data removed]",
      "text/plain": [
       "<Figure size 432x288 with 1 Axes>"
      ]
     },
     "metadata": {
      "needs_background": "light"
     },
     "output_type": "display_data"
    }
   ],
   "source": [
    "## Emotional Attachment - likert to numbers and sum \n",
    "likert_to_num = {\"Strongly Disagree\":0, \"Somewhat Disagree\":1, \"Neither Agree nor Disagree\": 2, \"Somewhat Agree\":3, \"Strongly Agree\":4}\n",
    "attachment_cols = ['attachments_1', 'attachments_2', 'attachments_3', 'attachments_4']\n",
    "for col in attachment_cols:\n",
    "    responses[col] = responses[col].map(lambda x: likert_to_num[x])\n",
    "    \n",
    "responses['emotional_attachment'] = responses[attachment_cols].sum(axis=1)\n",
    "responses.hist(column='emotional_attachment')\n",
    "\n",
    "# drop original attachment cols\n",
    "responses = responses.drop(attachment_cols, axis=1)\n",
    "\n",
    "# Saving emotional attachment data description (TODO: saving describe data?)\n",
    "describe_emo = responses['emotional_attachment'].describe()"
   ]
  },
  {
   "cell_type": "code",
   "execution_count": 279,
   "id": "362f64e5-699b-472c-a6a4-9e0c2b0380c2",
   "metadata": {},
   "outputs": [],
   "source": [
    "## Ethnicity categorisation\n",
    "responses['ethnicity'] = responses['ethnicity'].map(lambda x: \"White\" if (\"White\" in x and \"Mixed\" not in x ) else (\"Prefer not to say\" if x == \"Prefer not to say\" else \"BAME\"))\n",
    "count_data = save_count_data(responses, 'ethnicity', 'Ethnicity - categorised', count_data)"
   ]
  },
  {
   "cell_type": "code",
   "execution_count": 280,
   "id": "81b50ff2-24f0-4735-94bf-7c0bcad995db",
   "metadata": {},
   "outputs": [],
   "source": [
    "## Age categorisation\n",
    "responses['age'] = responses['age'].map(lambda x: \"Over 65\" if (x == \"65 - 74\" or x == \"75 - 84\" or x == \"85 or older\"  ) else x)\n",
    "count_data = save_count_data(responses, 'age', 'Age - categorised', count_data)"
   ]
  },
  {
   "cell_type": "code",
   "execution_count": 281,
   "id": "de0b3b29-ca76-43e1-b0d3-fa7bed91c891",
   "metadata": {},
   "outputs": [],
   "source": [
    "## Gender categorisation\n",
    "responses['gender'] = responses['gender'].map(lambda x: \"Prefer not to say\" if x == \"Prefer to self-describe\" else x)\n",
    "count_data = save_count_data(responses, 'gender', 'Gender - categorised', count_data)"
   ]
  },
  {
   "cell_type": "code",
   "execution_count": 282,
   "id": "28c94bbe-3e54-40fc-95de-c9eecd4b4090",
   "metadata": {},
   "outputs": [],
   "source": [
    "## Combining describe data\n",
    "describe_data = pd.DataFrame({'WTP': describe_WTP,'Phone cost': describe_p_cost,\n",
    "                              'WTP per': describe_WTP_per, 'Emotional Attachment': describe_emo })"
   ]
  },
  {
   "cell_type": "code",
   "execution_count": 283,
   "id": "60686f0a-0d6e-4cbc-967a-fa4e7518ddc2",
   "metadata": {},
   "outputs": [],
   "source": [
    "## Export to CSV\n",
    "responses.to_csv('data/cleaned.csv', index=False)\n",
    "\n",
    "export_cols = ['category', 'subcategory', 'counts'] \n",
    "count_data = count_data[export_cols]\n",
    "count_data.to_csv('results/counts_data.csv', index=False)\n",
    "\n",
    "describe_data.to_csv('results/describe_data.csv', index=True)"
   ]
  },
  {
   "cell_type": "markdown",
   "id": "7c2a6581-d1ad-4454-b3cc-2d7eb8d340ec",
   "metadata": {
    "tags": []
   },
   "source": [
    "### Model Preparation"
   ]
  },
  {
   "cell_type": "code",
   "execution_count": 284,
   "id": "0c661796-c06a-4cf2-b1c4-2d61ea21747c",
   "metadata": {},
   "outputs": [
    {
     "name": "stdout",
     "output_type": "stream",
     "text": [
      "Rows: 305  Columns: 13\n"
     ]
    }
   ],
   "source": [
    "## Choose variables wanted for modelling\n",
    "model_vars = ['WTP_per', 'WTP', 'phone_cost', 'protest_flag', 'treatment', 'emotional_attachment', 'gender', 'age', 'ethnicity', 'education', 'employment_status', 'income',\n",
    "             'family_size']\n",
    "df = responses[model_vars].copy()\n",
    "print(\"Rows:\", df.shape[0], \" Columns:\", df.shape[1])"
   ]
  },
  {
   "cell_type": "code",
   "execution_count": 285,
   "id": "db05debe-1588-4f51-ba2a-67a4ed98f288",
   "metadata": {},
   "outputs": [],
   "source": [
    "# Categorise emotional attachment at thresholds from 8 to 13\n",
    "for threshold in range(8, 14):\n",
    "    col_name = 'emotional_attachment_' + str(threshold)\n",
    "    responses[col_name] = np.where(responses['emotional_attachment'] > threshold, 1, 0)\n",
    "    count_data = save_count_data(responses, col_name, 'Emotional Attachment '+str(threshold), count_data)"
   ]
  },
  {
   "cell_type": "code",
   "execution_count": 286,
   "id": "c70801ea-8ec6-425b-a7fb-df9191b7a860",
   "metadata": {},
   "outputs": [
    {
     "data": {
      "text/plain": [
       "0    241\n",
       "1     64\n",
       "Name: age_bin, dtype: int64"
      ]
     },
     "execution_count": 286,
     "metadata": {},
     "output_type": "execute_result"
    }
   ],
   "source": [
    "## age binary categorisation - baseline: younger than 45\n",
    "older = [\"Over 65\", \"55 - 64\", \"45 - 54\"]\n",
    "df['age_bin'] = df['age'].map(lambda x: 1 if (x in older ) else 0)\n",
    "df['age_bin'].value_counts()"
   ]
  },
  {
   "cell_type": "code",
   "execution_count": 287,
   "id": "fd343b2f-5b0a-4d48-a8a6-68507ba6607f",
   "metadata": {},
   "outputs": [
    {
     "data": {
      "text/plain": [
       "0    224\n",
       "1     81\n",
       "Name: income_bin, dtype: int64"
      ]
     },
     "execution_count": 287,
     "metadata": {},
     "output_type": "execute_result"
    }
   ],
   "source": [
    "## income binary categorisation - baseline below 40,000\n",
    "higher_income = [\"£40,000 to £49,999\", \"£50,000 to £59,999\", \"£60,000 to £69,999\",\n",
    "                 \"£70,000 to £79,999\", \"£80,000 to £89,999\", \"£90,000 to £99,999\", \"£100,000 to £149,999\"]\n",
    "df['income_bin'] = df['income'].map(lambda x: 1 if (x in higher_income ) else 0)\n",
    "df['income_bin'].value_counts()"
   ]
  },
  {
   "cell_type": "code",
   "execution_count": 288,
   "id": "6d8d5d7a-6cfc-42d6-9e7a-bfc554f59f85",
   "metadata": {},
   "outputs": [
    {
     "data": {
      "text/plain": [
       "0    217\n",
       "1     88\n",
       "Name: family_size_bin, dtype: int64"
      ]
     },
     "execution_count": 288,
     "metadata": {},
     "output_type": "execute_result"
    }
   ],
   "source": [
    "## family size binary categorisation - baseline no dependents\n",
    "df['family_size_bin'] = df['family_size'].map(lambda x: 0 if (x == \"None\" ) else 1)\n",
    "df['family_size_bin'].value_counts()"
   ]
  },
  {
   "cell_type": "code",
   "execution_count": 289,
   "id": "ab90e893-8600-4ae4-b64e-261a924cf02d",
   "metadata": {},
   "outputs": [
    {
     "data": {
      "text/plain": [
       "0    155\n",
       "1    150\n",
       "Name: education_bin, dtype: int64"
      ]
     },
     "execution_count": 289,
     "metadata": {},
     "output_type": "execute_result"
    }
   ],
   "source": [
    "## education binary categorisation - baseline below Master's degree\n",
    "higher_edu = [\"Master's degree\", \"Doctoral degree\"]\n",
    "df['education_bin'] = df['education'].map(lambda x: 1 if (x in higher_edu ) else 0)\n",
    "df['education_bin'].value_counts()"
   ]
  },
  {
   "cell_type": "code",
   "execution_count": 290,
   "id": "c03523c7-4748-4c4b-aa47-95ceb9dafb7c",
   "metadata": {},
   "outputs": [
    {
     "data": {
      "text/plain": [
       "0    187\n",
       "1    118\n",
       "Name: employment_bin, dtype: int64"
      ]
     },
     "execution_count": 290,
     "metadata": {},
     "output_type": "execute_result"
    }
   ],
   "source": [
    "## employment status categorisation - baseline employed\n",
    "employed = [\"In full-time employment\", \"In part-time employment\", \"Self employed\"]\n",
    "df['employment_bin'] = df['employment_status'].map(lambda x: 0 if (x in employed) else 1)\n",
    "df['employment_bin'].value_counts()"
   ]
  },
  {
   "cell_type": "code",
   "execution_count": 291,
   "id": "ff27cb7d-0a77-4f99-9f9e-1831cf1628e1",
   "metadata": {},
   "outputs": [],
   "source": [
    "## Categorical expansion - one hot encoding\n",
    "categorical_cols = ['treatment', 'emotional_attachment', 'gender', 'age', 'ethnicity',\n",
    "                    'education', 'employment_status', 'income', 'family_size']\n",
    "\n",
    "OH_encoder = OneHotEncoder(handle_unknown='ignore', sparse=False)\n",
    "OH_res = pd.DataFrame(OH_encoder.fit_transform(df[categorical_cols]))\n",
    "OH_res.columns = OH_encoder.get_feature_names_out(categorical_cols)\n",
    "OH_res.index = df.index\n",
    "\n",
    "model_data = pd.concat([df, OH_res], axis=1)\n",
    "model_data = model_data.drop(categorical_cols, axis=1)"
   ]
  },
  {
   "cell_type": "markdown",
   "id": "f94b944c-e153-4cdc-8aa4-4be29e88902e",
   "metadata": {
    "tags": []
   },
   "source": [
    "### Modeling"
   ]
  },
  {
   "cell_type": "code",
   "execution_count": 292,
   "id": "9e6e88fd-98fd-42d3-a69e-29e740ff366c",
   "metadata": {},
   "outputs": [],
   "source": [
    "baseline_vars = ['treatment_cont', 'emotional_attachment_low', 'gender_Female', 'age_18 - 24',\n",
    "                 'ethnicity_White', \"education_Master's degree\", \"employment_status_In full-time employment\",\n",
    "                \"income_Less than £10,000\", 'family_size_None']\n",
    "\n",
    "drop_vars = ['gender_Non-binary / third gender', 'gender_Prefer not to say', 'income_Not sure', \n",
    "             'income_Prefer not to say', 'education_Prefer not to say', 'education_Other, please specify', \n",
    "             'ethnicity_Prefer not to say']"
   ]
  },
  {
   "cell_type": "code",
   "execution_count": 293,
   "id": "f11e114d-c037-4d1e-a790-06789323c5e8",
   "metadata": {},
   "outputs": [],
   "source": [
    "treatment_vars= []\n",
    "emo_vars = []\n",
    "eth_vars = []\n",
    "gender_vars = []\n",
    "age_vars = []\n",
    "age_bin_vars = []\n",
    "edu_vars = []\n",
    "edu_bin_vars = []\n",
    "emp_vars = []\n",
    "emp_bin_vars = []\n",
    "income_vars = []\n",
    "income_bin_vars = []\n",
    "fam_vars = []\n",
    "fam_bin_vars = []\n",
    "\n",
    "for col in model_data.columns:\n",
    "    if col not in baseline_vars and col not in drop_vars:\n",
    "        if 'treatment' in col:\n",
    "            treatment_vars.append(col)\n",
    "        elif 'emotional' in col:\n",
    "            emo_vars.append(col)\n",
    "        elif 'ethnicity' in col:\n",
    "            eth_vars.append(col)\n",
    "        elif 'gender' in col:\n",
    "            gender_vars.append(col)\n",
    "        elif 'age' in col:\n",
    "            if 'age_bin' in col:\n",
    "                age_bin_vars.append(col)\n",
    "            else:\n",
    "                age_vars.append(col)\n",
    "        elif 'employment' in col:\n",
    "            if 'employment_bin' in col:\n",
    "                emp_bin_vars.append(col)\n",
    "            else:\n",
    "                emp_vars.append(col)\n",
    "        elif'education' in col:\n",
    "            if 'education_bin' in col:\n",
    "                edu_bin_vars.append(col)\n",
    "            elif 'education_' in col:\n",
    "                edu_vars.append(col)\n",
    "        elif 'income' in col:\n",
    "            if 'income_bin' in col:\n",
    "                income_bin_vars.append(col)\n",
    "            else:\n",
    "                income_vars.append(col)\n",
    "        elif 'family' in col:\n",
    "            if 'family_size_bin' in col:\n",
    "                fam_bin_vars.append(col)\n",
    "            else:\n",
    "                fam_vars.append(col)"
   ]
  },
  {
   "cell_type": "code",
   "execution_count": 294,
   "id": "5d07d2f8-4815-47b7-89a0-86954a7f41df",
   "metadata": {},
   "outputs": [
    {
     "name": "stdout",
     "output_type": "stream",
     "text": [
      "treatment_env x ethnicity_BAME\n",
      "treatment_env x gender_Male\n",
      "treatment_env x age_bin\n",
      "treatment_env x education_bin\n",
      "treatment_env x employment_bin\n",
      "treatment_env x income_bin\n",
      "treatment_env x family_size_bin\n",
      "treatment_env x emotional_attachment_2\n",
      "treatment_env x emotional_attachment_3\n",
      "treatment_env x emotional_attachment_4\n",
      "treatment_env x emotional_attachment_5\n",
      "treatment_env x emotional_attachment_6\n",
      "treatment_env x emotional_attachment_7\n",
      "treatment_env x emotional_attachment_8\n",
      "treatment_env x emotional_attachment_9\n",
      "treatment_env x emotional_attachment_10\n",
      "treatment_env x emotional_attachment_11\n",
      "treatment_env x emotional_attachment_12\n",
      "treatment_env x emotional_attachment_13\n",
      "treatment_env x emotional_attachment_14\n",
      "treatment_env x emotional_attachment_15\n",
      "treatment_env x emotional_attachment_16\n",
      "treatment_gov x ethnicity_BAME\n",
      "treatment_gov x gender_Male\n",
      "treatment_gov x age_bin\n",
      "treatment_gov x education_bin\n",
      "treatment_gov x employment_bin\n",
      "treatment_gov x income_bin\n",
      "treatment_gov x family_size_bin\n",
      "treatment_gov x emotional_attachment_2\n",
      "treatment_gov x emotional_attachment_3\n",
      "treatment_gov x emotional_attachment_4\n",
      "treatment_gov x emotional_attachment_5\n",
      "treatment_gov x emotional_attachment_6\n",
      "treatment_gov x emotional_attachment_7\n",
      "treatment_gov x emotional_attachment_8\n",
      "treatment_gov x emotional_attachment_9\n",
      "treatment_gov x emotional_attachment_10\n",
      "treatment_gov x emotional_attachment_11\n",
      "treatment_gov x emotional_attachment_12\n",
      "treatment_gov x emotional_attachment_13\n",
      "treatment_gov x emotional_attachment_14\n",
      "treatment_gov x emotional_attachment_15\n",
      "treatment_gov x emotional_attachment_16\n"
     ]
    }
   ],
   "source": [
    "## Relationship columns\n",
    "relationship_vars = []\n",
    "bin_vars = eth_vars + gender_vars + age_bin_vars + edu_bin_vars + emp_bin_vars + income_bin_vars + fam_bin_vars + emo_vars\n",
    "for treat in treatment_vars:\n",
    "    for bi in bin_vars:\n",
    "        col_name = treat+' x '+ bi\n",
    "        relationship_vars.append(col_name)\n",
    "        print(col_name)\n",
    "        model_data[col_name] = model_data[treat].multiply(model_data[bi])"
   ]
  },
  {
   "cell_type": "code",
   "execution_count": 295,
   "id": "27c42ef8-2176-4708-bb1f-1da71b974988",
   "metadata": {},
   "outputs": [],
   "source": [
    "model_data = model_data.drop(model_data[model_data['protest_flag']== True].index)\n",
    "\n",
    "model_data_cont = model_data.copy().drop(model_data[model_data['treatment_cont']== 0].index) \n",
    "model_data_env = model_data.copy().drop(model_data[model_data['treatment_env']== 0].index)\n",
    "model_data_gov = model_data.copy().drop(model_data[model_data['treatment_gov']== 0].index)"
   ]
  },
  {
   "cell_type": "code",
   "execution_count": 296,
   "id": "4ee925ee-1a0e-4a08-9c1b-8ea10eb6f3d6",
   "metadata": {},
   "outputs": [
    {
     "name": "stdout",
     "output_type": "stream",
     "text": [
      "Index(['employment_status_In full-time employment',\n",
      "       'employment_status_In part-time employment',\n",
      "       'employment_status_Not in employment',\n",
      "       'employment_status_Self employed', 'income_Less than £10,000',\n",
      "       'income_Not sure', 'income_Prefer not to say',\n",
      "       'income_£10,000 to £19,999', 'income_£100,000 to £149,999',\n",
      "       'income_£150,000 or more'],\n",
      "      dtype='object')\n"
     ]
    }
   ],
   "source": [
    "print(model_data.columns[50:60])"
   ]
  },
  {
   "cell_type": "code",
   "execution_count": 297,
   "id": "63db2ab6-2748-4930-8615-6d7a66ff2223",
   "metadata": {},
   "outputs": [],
   "source": [
    "## Export to CSV\n",
    "model_data.to_csv('data/model.csv', index=False)"
   ]
  },
  {
   "cell_type": "markdown",
   "id": "996beba2-b942-48e4-8de8-346af454437b",
   "metadata": {
    "tags": []
   },
   "source": [
    "## Final Modelling"
   ]
  },
  {
   "cell_type": "code",
   "execution_count": 298,
   "id": "5008035c-b42e-474b-a915-08dfc4a90a29",
   "metadata": {},
   "outputs": [],
   "source": [
    "def saving_experiments(exp_list, file_name):\n",
    "    for ex in exp_list:\n",
    "        temp = pd.DataFrame(ex.summary().tables[1])\n",
    "        temp.to_csv('results/'+file_name, mode='a', index=False, header=False)\n",
    "    return"
   ]
  },
  {
   "cell_type": "code",
   "execution_count": 299,
   "id": "73692fe1-c97c-41c6-a949-09510e25a332",
   "metadata": {},
   "outputs": [],
   "source": [
    "def mean_confidence_interval(data=[], confidence=0.95):\n",
    "    mean = []\n",
    "    ci = []\n",
    "    for s in data:\n",
    "        a = 1.0 * np.array(s)\n",
    "        n = len(a)\n",
    "        m, se = np.mean(a), st.sem(a)\n",
    "        h = se * st.t.ppf((1 + confidence) / 2., n-1)\n",
    "        mean.append(m)\n",
    "        ci.append(h)\n",
    "        \n",
    "    return mean, ci"
   ]
  },
  {
   "cell_type": "markdown",
   "id": "db46d3af-bddd-47fc-96ae-7220a43c7a89",
   "metadata": {
    "tags": []
   },
   "source": [
    "### Results 1: WTP and WTP% data "
   ]
  },
  {
   "cell_type": "code",
   "execution_count": 300,
   "id": "41b1ab69-d93a-4e19-9628-1b0e111ef779",
   "metadata": {},
   "outputs": [
    {
     "data": {
      "text/plain": [
       "<AxesSubplot:ylabel='Frequency'>"
      ]
     },
     "execution_count": 300,
     "metadata": {},
     "output_type": "execute_result"
    },
    {
     "data": {
      "image/png": "[encoded data removed]",
      "text/plain": [
       "<Figure size 432x288 with 1 Axes>"
      ]
     },
     "metadata": {
      "needs_background": "light"
     },
     "output_type": "display_data"
    }
   ],
   "source": [
    "model_data['WTP'].plot(kind='hist')"
   ]
  },
  {
   "cell_type": "code",
   "execution_count": 331,
   "id": "cd9596d9-5585-4c47-adb5-af89e34a371a",
   "metadata": {},
   "outputs": [],
   "source": [
    "data_wtp = [model_data['WTP'], model_data_cont['WTP'], model_data_env['WTP'], model_data_gov['WTP']]\n",
    "mean_WTP, ci_WTP = mean_confidence_interval(data_wtp)"
   ]
  },
  {
   "cell_type": "code",
   "execution_count": 332,
   "id": "05769cbd-62bd-4de2-9edd-5f21c75ee3a5",
   "metadata": {},
   "outputs": [],
   "source": [
    "data_wtp_per = [model_data['WTP_per'], model_data_cont['WTP_per'], model_data_env['WTP_per'], model_data_gov['WTP_per']]\n",
    "mean_WTP_per, ci_WTP_per = mean_confidence_interval(data_wtp_per)"
   ]
  },
  {
   "cell_type": "code",
   "execution_count": 333,
   "id": "e6e66767-8c21-4d8b-ae27-47f5dfe4ce02",
   "metadata": {},
   "outputs": [],
   "source": [
    "res1_data = pd.DataFrame({'Mean WTP': mean_WTP,'Confidence Interval WTP': ci_WTP,\n",
    "                              'Mean WTP per': mean_WTP_per, 'Confidence Interval WTP oer': ci_WTP_per })\n",
    "res1_data.to_csv('results/res_1.csv', index=False)"
   ]
  },
  {
   "cell_type": "markdown",
   "id": "1cf1cc96-eed9-4167-afb2-d0d509151b25",
   "metadata": {
    "tags": []
   },
   "source": [
    "### Experiment 2: Seperate regression with core variables and socioeconomic variables"
   ]
  },
  {
   "cell_type": "code",
   "execution_count": 304,
   "id": "f7c2da58-b475-465c-8dd2-10050986bcaf",
   "metadata": {},
   "outputs": [],
   "source": [
    "# Model 6: All - X (income + education + employment + fam)\n",
    "mod6_vars = treatment_vars + income_vars + edu_vars + emp_vars + fam_vars\n",
    "mod6_X = model_data[mod6_vars]\n",
    "mod6_y = model_data['WTP_per']\n",
    "\n",
    "mod6 = sm.OLS(mod6_y, mod6_X)\n",
    "res6 = mod6.fit()"
   ]
  },
  {
   "cell_type": "code",
   "execution_count": 305,
   "id": "6c8cd8cc-bee6-484b-a38f-1b001fb6bcd1",
   "metadata": {},
   "outputs": [],
   "source": [
    "exp_2 = [res6]\n",
    "saving_experiments(exp_2, 'res_2.csv')"
   ]
  },
  {
   "cell_type": "markdown",
   "id": "51c15d9d-7776-44ed-bbd9-5f45b7626df7",
   "metadata": {
    "tags": []
   },
   "source": [
    "### Experiment 3: Emotional attachment regression with both treatments"
   ]
  },
  {
   "cell_type": "code",
   "execution_count": 306,
   "id": "b47caf6d-1f01-45cd-bbea-7f3205f93dd0",
   "metadata": {},
   "outputs": [],
   "source": [
    "# Model 7: All - X (treatments + emotional)\n",
    "mod7_vars = treatment_vars + emo_vars + ['phone_cost']\n",
    "mod7_X = model_data[mod7_vars]\n",
    "mod7_y = model_data['WTP']\n",
    "\n",
    "mod7 = sm.OLS(mod7_y, mod7_X)\n",
    "res7 = mod7.fit()"
   ]
  },
  {
   "cell_type": "code",
   "execution_count": 307,
   "id": "3fd3604e-09aa-4476-b6ed-2b59fd30f463",
   "metadata": {},
   "outputs": [],
   "source": [
    "exp_3 = [res7]\n",
    "saving_experiments(exp_3, 'res_3.csv')"
   ]
  },
  {
   "cell_type": "markdown",
   "id": "567407f4-74c6-4ab6-b4cd-3322fede4bb7",
   "metadata": {
    "tags": []
   },
   "source": [
    "### Experiment 4: Relationship between env treatment and each demographic variable"
   ]
  },
  {
   "cell_type": "code",
   "execution_count": 308,
   "id": "19651876-1e5c-40de-952c-0b34f4692d7f",
   "metadata": {},
   "outputs": [],
   "source": [
    "# Model 8: All - X (treatments + gender + treatment x gender)\n",
    "mod8_vars = treatment_vars  + bin_vars + ['treatment_env x gender_Male', 'treatment_gov x gender_Male', 'phone_cost']\n",
    "mod8_X = model_data[mod8_vars]\n",
    "mod8_y = model_data['WTP']\n",
    "\n",
    "mod8 = sm.OLS(mod8_y, mod8_X)\n",
    "res8 = mod8.fit()"
   ]
  },
  {
   "cell_type": "code",
   "execution_count": 309,
   "id": "1d071a15-df6c-4a4a-b9e7-aa935b70bfa2",
   "metadata": {},
   "outputs": [],
   "source": [
    "# Model 9: All - X (treatments + ethnicity + treatment x ethnicity)\n",
    "mod9_vars = treatment_vars + bin_vars + ['treatment_env x ethnicity_BAME', 'treatment_gov x ethnicity_BAME', 'phone_cost']\n",
    "mod9_X = model_data[mod9_vars]\n",
    "mod9_y = model_data['WTP']\n",
    "\n",
    "mod9 = sm.OLS(mod9_y, mod9_X)\n",
    "res9 = mod9.fit()"
   ]
  },
  {
   "cell_type": "code",
   "execution_count": 310,
   "id": "763c2604-3ed7-4de6-8d16-e156cb1d9c65",
   "metadata": {},
   "outputs": [],
   "source": [
    "# Model 10: All - X (treatments + age + treatment x age)\n",
    "mod10_vars = treatment_vars + bin_vars + ['treatment_env x age_bin', 'treatment_gov x age_bin', 'phone_cost']\n",
    "mod10_X = model_data[mod10_vars]\n",
    "mod10_y = model_data['WTP']\n",
    "\n",
    "mod10 = sm.OLS(mod10_y, mod10_X)\n",
    "res10 = mod10.fit()"
   ]
  },
  {
   "cell_type": "code",
   "execution_count": 311,
   "id": "48a08af6-c125-44e9-ba1b-882762ac8119",
   "metadata": {},
   "outputs": [],
   "source": [
    "# Model 11 :All - X (treatments + income + treatment x income)\n",
    "mod11_vars = treatment_vars + bin_vars + ['treatment_env x income_bin', 'treatment_gov x income_bin', 'phone_cost']\n",
    "mod11_X = model_data[mod11_vars]\n",
    "mod11_y = model_data['WTP']\n",
    "\n",
    "mod11 = sm.OLS(mod11_y, mod11_X)\n",
    "res11 = mod11.fit()"
   ]
  },
  {
   "cell_type": "code",
   "execution_count": 312,
   "id": "de4e65b0-7495-470d-8eb2-efbbad08f7f7",
   "metadata": {},
   "outputs": [],
   "source": [
    "# Model 12 :All - X (treatments + employment + treatment x employment)\n",
    "mod12_vars = treatment_vars + bin_vars + ['treatment_env x employment_bin', 'treatment_gov x employment_bin', 'phone_cost']\n",
    "mod12_X = model_data[mod12_vars]\n",
    "mod12_y = model_data['WTP']\n",
    "\n",
    "mod12 = sm.OLS(mod12_y, mod12_X)\n",
    "res12 = mod12.fit()"
   ]
  },
  {
   "cell_type": "code",
   "execution_count": 313,
   "id": "7a8208c2-845e-4c44-8e83-922fe56cfa9e",
   "metadata": {},
   "outputs": [],
   "source": [
    "# Model 13 :All - X (treatments + family size + treatment x family size)\n",
    "mod13_vars = treatment_vars + bin_vars + ['treatment_env x family_size_bin', 'treatment_gov x family_size_bin', 'phone_cost']\n",
    "mod13_X = model_data[mod13_vars]\n",
    "mod13_y = model_data['WTP']\n",
    "\n",
    "mod13 = sm.OLS(mod13_y, mod13_X)\n",
    "res13 = mod13.fit()"
   ]
  },
  {
   "cell_type": "code",
   "execution_count": 314,
   "id": "e574d38f-9337-45c0-8bbf-fa15bc99c704",
   "metadata": {},
   "outputs": [],
   "source": [
    "# Model 14 :All - X (treatments + edu + treatment x edu)\n",
    "mod14_vars = treatment_vars + bin_vars + ['treatment_env x education_bin', 'treatment_gov x education_bin', 'phone_cost']\n",
    "mod14_X = model_data[mod14_vars]\n",
    "mod14_y = model_data['WTP']\n",
    "\n",
    "mod14 = sm.OLS(mod14_y, mod14_X)\n",
    "res14 = mod14.fit()"
   ]
  },
  {
   "cell_type": "code",
   "execution_count": 315,
   "id": "c918eefa-5dee-43c4-9e22-db0aeeb0ea94",
   "metadata": {},
   "outputs": [],
   "source": [
    "# Model 15 :All - X (treatments + emo + treatment x emo)\n",
    "mod15_vars = treatment_vars + bin_vars + emo_vars + ['treatment_env x emotional_attachment_13', 'treatment_gov x emotional_attachment_13', 'phone_cost']\n",
    "mod15_X = model_data[mod15_vars]\n",
    "mod15_y = model_data['WTP']\n",
    "\n",
    "mod15 = sm.OLS(mod15_y, mod15_X)\n",
    "res15 = mod15.fit()"
   ]
  },
  {
   "cell_type": "code",
   "execution_count": 316,
   "id": "9bdea989-0292-4bfe-8736-558fcf7ccdc2",
   "metadata": {},
   "outputs": [],
   "source": [
    "# Model 16 :All - X (treatments + emo + treatment x emo)\n",
    "mod16_vars = treatment_vars + bin_vars +  relationship_vars + ['phone_cost']\n",
    "mod16_X = model_data[mod16_vars]\n",
    "mod16_y = model_data['WTP']\n",
    "\n",
    "mod16 = sm.OLS(mod16_y, mod16_X)\n",
    "res16 = mod16.fit()"
   ]
  },
  {
   "cell_type": "code",
   "execution_count": 317,
   "id": "d93fb5c6-ec51-46a2-92f0-d64b0c888c69",
   "metadata": {},
   "outputs": [],
   "source": [
    "#TODO (maybe no saving coefficients)\n",
    "exp_4 = [res8, res9, res10, res11, res12, res13, res14, res15]\n",
    "saving_experiments(exp_4, 'res_4.csv')"
   ]
  },
  {
   "cell_type": "code",
   "execution_count": 318,
   "id": "21451876-36e1-4437-9bc7-24c18535edc8",
   "metadata": {},
   "outputs": [
    {
     "ename": "NameError",
     "evalue": "name 'gov_coef' is not defined",
     "output_type": "error",
     "traceback": [
      "\u001b[0;31m---------------------------------------------------------------------------\u001b[0m",
      "\u001b[0;31mNameError\u001b[0m                                 Traceback (most recent call last)",
      "Input \u001b[0;32mIn [318]\u001b[0m, in \u001b[0;36m<cell line: 1>\u001b[0;34m()\u001b[0m\n\u001b[0;32m----> 1\u001b[0m t_test \u001b[38;5;241m=\u001b[39m sm\u001b[38;5;241m.\u001b[39mstats\u001b[38;5;241m.\u001b[39mttest_ind(\u001b[43mgov_coef\u001b[49m, env_coef)\n\u001b[1;32m      2\u001b[0m \u001b[38;5;28mprint\u001b[39m(\u001b[38;5;124m\"\u001b[39m\u001b[38;5;124mt val:\u001b[39m\u001b[38;5;124m\"\u001b[39m, t_test[\u001b[38;5;241m0\u001b[39m], \u001b[38;5;124m\"\u001b[39m\u001b[38;5;124mp val:\u001b[39m\u001b[38;5;124m\"\u001b[39m, t_test[\u001b[38;5;241m1\u001b[39m], \u001b[38;5;124m\"\u001b[39m\u001b[38;5;124mdegrees of freedom:\u001b[39m\u001b[38;5;124m\"\u001b[39m, t_test[\u001b[38;5;241m2\u001b[39m])\n",
      "\u001b[0;31mNameError\u001b[0m: name 'gov_coef' is not defined"
     ]
    }
   ],
   "source": [
    "t_test = sm.stats.ttest_ind(gov_coef, env_coef)\n",
    "print(\"t val:\", t_test[0], \"p val:\", t_test[1], \"degrees of freedom:\", t_test[2])"
   ]
  },
  {
   "cell_type": "markdown",
   "id": "0bcd60ed-3d89-4e89-8d35-a910c3647786",
   "metadata": {
    "tags": []
   },
   "source": [
    "### Experiment 5: Increasing socio economic variables until we have full model with all variables"
   ]
  },
  {
   "cell_type": "code",
   "execution_count": 319,
   "id": "64a4b4db-b17f-48d8-befc-ef445c4c2aac",
   "metadata": {},
   "outputs": [],
   "source": [
    "# Model 22: All - X (treatment_vars, core)\n",
    "mod22_vars = treatment_vars + age_vars + gender_vars + eth_vars + ['phone_cost']\n",
    "mod22_X = model_data[mod22_vars]\n",
    "mod22_y = model_data['WTP']\n",
    "\n",
    "mod22 = sm.OLS(mod22_y, mod22_X)\n",
    "res22 = mod22.fit()"
   ]
  },
  {
   "cell_type": "code",
   "execution_count": 320,
   "id": "6f2262d6-3eb6-41a3-a150-11d2fb46cd61",
   "metadata": {},
   "outputs": [],
   "source": [
    "# Model 23: All - X (treatment_vars, core + income)\n",
    "mod23_vars = treatment_vars + age_vars + gender_vars + eth_vars + income_vars + ['phone_cost']\n",
    "mod23_X = model_data[mod23_vars]\n",
    "mod23_y = model_data['WTP']\n",
    "\n",
    "mod23 = sm.OLS(mod23_y, mod23_X)\n",
    "res23 = mod23.fit()"
   ]
  },
  {
   "cell_type": "code",
   "execution_count": 321,
   "id": "c6169b5d-b071-4441-8241-717b64faae4b",
   "metadata": {},
   "outputs": [],
   "source": [
    "# Model 24: All - X (treatment_vars, core + income + education)\n",
    "mod24_vars = treatment_vars + age_vars + gender_vars + eth_vars + income_vars + edu_vars + ['phone_cost']\n",
    "mod24_X = model_data[mod24_vars]\n",
    "mod24_y = model_data['WTP']\n",
    "\n",
    "mod24 = sm.OLS(mod24_y, mod24_X)\n",
    "res24 = mod24.fit()"
   ]
  },
  {
   "cell_type": "code",
   "execution_count": 322,
   "id": "7f7bdd4d-c649-4754-a6ad-6f0967c7b0e8",
   "metadata": {},
   "outputs": [],
   "source": [
    "# Model 25: All - X (treatment_vars, core + income + education + employment)\n",
    "mod25_vars = treatment_vars + age_vars + gender_vars + eth_vars + income_vars + edu_vars + emp_vars + ['phone_cost']\n",
    "mod25_X = model_data[mod25_vars]\n",
    "mod25_y = model_data['WTP']\n",
    "\n",
    "mod25 = sm.OLS(mod25_y, mod25_X)\n",
    "res25 = mod25.fit()"
   ]
  },
  {
   "cell_type": "code",
   "execution_count": 323,
   "id": "59f44e41-bafb-4c07-9d54-45c0b0dc7951",
   "metadata": {},
   "outputs": [],
   "source": [
    "# Model 26: All - X (treatment_vars, core + income + education + employment + fam [ALL])\n",
    "mod26_vars = treatment_vars + bin_vars + ['phone_cost']\n",
    "mod26_X = model_data[mod26_vars]\n",
    "mod26_y = model_data['WTP']\n",
    "\n",
    "mod26 = sm.OLS(mod26_y, mod26_X)\n",
    "res26 = mod26.fit()"
   ]
  },
  {
   "cell_type": "code",
   "execution_count": 324,
   "id": "c71955d6-9b85-41cd-88d6-a58f7a9b2720",
   "metadata": {},
   "outputs": [],
   "source": [
    "exp_5 = [res22, res23, res24, res25, res26]\n",
    "saving_experiments(exp_5, 'res_5.csv')"
   ]
  },
  {
   "cell_type": "markdown",
   "id": "7f220f6d-91a7-4349-a890-50569f4f309a",
   "metadata": {},
   "source": [
    "### Experiment 6: Using interaction variables"
   ]
  },
  {
   "cell_type": "code",
   "execution_count": 325,
   "id": "1cc70a81-d16f-439e-9ae0-9e2d88e6c4da",
   "metadata": {},
   "outputs": [],
   "source": [
    "# Model 27: All - X (treatment_vars, core + income + education + employment + fam [ALL])\n",
    "mod27_vars = treatment_vars + eth_vars + gender_vars + age_vars + edu_vars + emp_vars + income_vars + fam_vars + emo_vars + ['phone_cost']\n",
    "mod27_X = model_data[mod27_vars]\n",
    "mod27_y = model_data['WTP']\n",
    "\n",
    "mod27 = sm.OLS(mod27_y, mod27_X)\n",
    "res27 = mod27.fit()"
   ]
  },
  {
   "cell_type": "code",
   "execution_count": 326,
   "id": "54244a14-dcb3-41fb-b033-385937ee2551",
   "metadata": {},
   "outputs": [],
   "source": [
    "exp_6 = [res27]\n",
    "saving_experiments(exp_6, 'res_6.csv')"
   ]
  },
  {
   "cell_type": "markdown",
   "id": "3d4c1188-d483-48a3-b44c-a7f5c92b82bf",
   "metadata": {},
   "source": [
    "### Experiment 7: T-test on survey data means against historical value"
   ]
  },
  {
   "cell_type": "code",
   "execution_count": 327,
   "id": "e9cdf982-07b4-470f-aa1d-a0847e579d2f",
   "metadata": {},
   "outputs": [
    {
     "data": {
      "text/plain": [
       "Ttest_indResult(statistic=9.67815254305793, pvalue=1.0604605057241301e-20)"
      ]
     },
     "execution_count": 327,
     "metadata": {},
     "output_type": "execute_result"
    }
   ],
   "source": [
    "rvs1 = st.norm.rvs(loc=61, scale=21, size=len(model_data['WTP']))\n",
    "st.ttest_ind(model_data['WTP'], rvs1)"
   ]
  },
  {
   "cell_type": "code",
   "execution_count": 328,
   "id": "19aa70c9-7c76-4320-a0cc-c3abd452c9a9",
   "metadata": {},
   "outputs": [
    {
     "data": {
      "text/plain": [
       "Ttest_indResult(statistic=4.99251846148903, pvalue=1.2266561064984965e-06)"
      ]
     },
     "execution_count": 328,
     "metadata": {},
     "output_type": "execute_result"
    }
   ],
   "source": [
    "rvs2 = st.norm.rvs(loc=61, scale=21, size=len(model_data_cont['WTP']))\n",
    "st.ttest_ind(model_data_cont['WTP'], rvs2)"
   ]
  },
  {
   "cell_type": "code",
   "execution_count": 329,
   "id": "4cb45a1d-ed69-44b2-9922-d5611a92ae2e",
   "metadata": {},
   "outputs": [
    {
     "data": {
      "text/plain": [
       "Ttest_indResult(statistic=-5.105804193217802, pvalue=7.900303519363326e-07)"
      ]
     },
     "execution_count": 329,
     "metadata": {},
     "output_type": "execute_result"
    }
   ],
   "source": [
    "rvs3 = st.norm.rvs(loc=61, scale=21, size=len(model_data_env['WTP']))\n",
    "st.ttest_ind(rvs3, model_data_env['WTP'])"
   ]
  },
  {
   "cell_type": "code",
   "execution_count": 330,
   "id": "164cc68d-4823-4c3c-9d78-bdc1a47270cf",
   "metadata": {},
   "outputs": [
    {
     "data": {
      "text/plain": [
       "Ttest_indResult(statistic=-6.889732882508218, pvalue=7.436392228064648e-11)"
      ]
     },
     "execution_count": 330,
     "metadata": {},
     "output_type": "execute_result"
    }
   ],
   "source": [
    "rvs4 = st.norm.rvs(loc=61, scale=21, size=len(model_data_gov['WTP']))\n",
    "st.ttest_ind(rvs4, model_data_gov['WTP'])"
   ]
  },
  {
   "cell_type": "code",
   "execution_count": null,
   "id": "6c5bacee-78b1-45e6-b9be-34500cef6b88",
   "metadata": {},
   "outputs": [],
   "source": []
  }
 ],
 "metadata": {
  "kernelspec": {
   "display_name": "Python 3 (ipykernel)",
   "language": "python",
   "name": "python3"
  },
  "language_info": {
   "codemirror_mode": {
    "name": "ipython",
    "version": 3
   },
   "file_extension": ".py",
   "mimetype": "text/x-python",
   "name": "python",
   "nbconvert_exporter": "python",
   "pygments_lexer": "ipython3",
   "version": "3.9.10"
  }
 },
 "nbformat": 4,
 "nbformat_minor": 5
}
