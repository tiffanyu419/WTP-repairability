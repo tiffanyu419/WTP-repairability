{
 "cells": [
  {
   "cell_type": "markdown",
   "id": "fe5f1f8f-ed13-45ac-ab8e-0d5a4504b936",
   "metadata": {},
   "source": [
    "## Willingness to pay for Repairability for Mobile phones"
   ]
  },
  {
   "cell_type": "markdown",
   "id": "6ee519a1-7f7d-4138-9c49-1bc375a07712",
   "metadata": {
    "tags": []
   },
   "source": [
    "### Import survey data"
   ]
  },
  {
   "cell_type": "code",
   "execution_count": 12,
   "id": "9495142a-e80c-401e-b66c-069de034dc09",
   "metadata": {},
   "outputs": [],
   "source": [
    "import pandas as pd\n",
    "import numpy as np\n",
    "import scipy.stats as st\n",
    "import matplotlib.pyplot as plt\n",
    "import scipy.stats as st\n",
    "import statsmodels.api as sm\n",
    "from sklearn.preprocessing import OneHotEncoder"
   ]
  },
  {
   "cell_type": "code",
   "execution_count": 13,
   "id": "be77ffac-ed5e-43c4-b8f9-29e9b6a8f1b8",
   "metadata": {},
   "outputs": [],
   "source": [
    "data = pd.read_csv('data/survey_data_final.csv')\n",
    "data = data.iloc[2:, :]"
   ]
  },
  {
   "cell_type": "code",
   "execution_count": 14,
   "id": "37ccce5a-66c1-4206-897c-99eafc6973d8",
   "metadata": {},
   "outputs": [],
   "source": [
    "# Counts for invalid data before dropping\n",
    "general_data = data.Finished.value_counts().rename_axis('subcategory').reset_index(name='counts')\n",
    "general_data['category'] = \"Finished survey\"\n",
    "\n",
    "phone_ownership_val = data[\"Phone ownership\"].value_counts().rename_axis('subcategory').reset_index(name='counts')\n",
    "phone_ownership_val['category'] = \"Phone ownership\"\n",
    "\n",
    "general_data = pd.concat([general_data, phone_ownership_val], ignore_index=True)"
   ]
  },
  {
   "cell_type": "code",
   "execution_count": 15,
   "id": "d19bd400-1caf-4575-a81a-42aa2851edce",
   "metadata": {},
   "outputs": [],
   "source": [
    "def save_to_general_data(data, category, col_name, general_data):\n",
    "    temp_df = data[category].value_counts().rename_axis('subcategory').reset_index(name='counts')\n",
    "    temp_df['category'] = col_name\n",
    "    general_data = pd.concat([general_data, temp_df], ignore_index=True)\n",
    "    return general_data"
   ]
  },
  {
   "cell_type": "markdown",
   "id": "bc70e083-d5cb-454e-9cf5-dea5813b245d",
   "metadata": {
    "tags": []
   },
   "source": [
    "### Data Cleaning and Exploration"
   ]
  },
  {
   "cell_type": "code",
   "execution_count": 16,
   "id": "cd62be70-6c8c-48b6-8668-c0c4e78ec3c4",
   "metadata": {},
   "outputs": [],
   "source": [
    "## Drop invalid rows (not finished surveys, no data consents and contract still paying, missing value)\n",
    "data = data.drop(data[data.Consent != \"Yes\"].index)\n",
    "data = data.drop(data[data.Finished != \"True\"].index)\n",
    "data = data.drop(data[data[\"Phone ownership\"] == \"Bought on contract - still paying\"].index)\n",
    "data = data.drop(data[data['phone cost_1'].isnull()].index)"
   ]
  },
  {
   "cell_type": "code",
   "execution_count": 17,
   "id": "1c7c01b8-d166-440b-bf1c-f93228193eb2",
   "metadata": {},
   "outputs": [],
   "source": [
    "# Counts for demographic variables and phone baseline information\n",
    "categories = [\"Gender\", \"Ethnicity\", \"Age\", \"Education\", \"Employment status\", \"Family size\", \"Income\", \"Phone ownership\", \"State of phone\", \"Brand of phone\"]\n",
    "for cat in categories:\n",
    "    general_data = save_to_general_data(data, cat, cat, general_data)"
   ]
  },
  {
   "cell_type": "code",
   "execution_count": 18,
   "id": "a61dfe96-4188-4881-a30d-ae61ac00563a",
   "metadata": {},
   "outputs": [
    {
     "name": "stdout",
     "output_type": "stream",
     "text": [
      "Rows: 310  Columns: 29\n",
      "Master's degree                                  125\n",
      "Undergraduate degree                             115\n",
      "Doctoral degree                                   29\n",
      "Further education (16+, A-Levels, BTEC, etc.)     21\n",
      "Secondary school (up to 16 years)                  8\n",
      "Primary school                                     6\n",
      "Other, please specify                              4\n",
      "Prefer not to say                                  2\n",
      "Name: education, dtype: int64\n"
     ]
    }
   ],
   "source": [
    "## Select desired columns from responses and reformat column names\n",
    "wanted_cols = ['Phone ownership',\n",
    "               'Phone ownership_4_TEXT',\n",
    "               'phone cost_1',\n",
    "               'State of phone',\n",
    "               'State of phone_5_TEXT',\n",
    "               'Brand of phone',\n",
    "               'Brand of phone_4_TEXT',\n",
    "               'Attachments_1',\n",
    "               'Attachments_2',\n",
    "               'Attachments_3',\n",
    "               'Attachments_4',\n",
    "               'env - q_1',\n",
    "               'env - why?',\n",
    "               'env - why?_4_TEXT',\n",
    "               'control - q_1',\n",
    "               'control - why',\n",
    "               'control - why_4_TEXT',\n",
    "               'gov - q_1',\n",
    "               'gov - why',\n",
    "               'gov - why_4_TEXT',\n",
    "               'Gender',\n",
    "               'Gender_4_TEXT',\n",
    "               'Age',\n",
    "               'Ethnicity',\n",
    "               'Education',\n",
    "               'Education_8_TEXT',\n",
    "               'Employment status',\n",
    "               'Income',\n",
    "               'Family size']\n",
    "responses = data.filter(wanted_cols, axis=1)\n",
    "\n",
    "# Renaming columns\n",
    "responses = responses.rename(columns={'phone cost_1':'phone_cost',\n",
    "                                      'Phone ownership_4_TEXT': 'phone_ownership_response', \n",
    "                                      'Gender_4_TEXT': 'gender_response',\n",
    "                                      'Education_8_TEXT':'education_response', \n",
    "                                      'Brand of phone_4_TEXT': 'brand_phone_response',\n",
    "                                      'State of phone':'state_phone',\n",
    "                                      'Brand of phone': 'brand_phone',\n",
    "                                      'State of phone_5_TEXT':'state_phone_response'})\n",
    "\n",
    "responses = responses.rename(columns=str.lower)\n",
    "responses.columns = responses.columns.str.replace(\" \", \"_\")\n",
    "            \n",
    "print(\"Rows:\", responses.shape[0], \" Columns:\", responses.shape[1])\n",
    "print(responses['education'].value_counts())"
   ]
  },
  {
   "cell_type": "code",
   "execution_count": 19,
   "id": "209515ea-8d08-47d7-a521-d28ddf907865",
   "metadata": {},
   "outputs": [
    {
     "name": "stdout",
     "output_type": "stream",
     "text": [
      "10.0\n"
     ]
    },
    {
     "data": {
      "image/png": "[encoded data removed]",
      "text/plain": [
       "<Figure size 432x288 with 1 Axes>"
      ]
     },
     "metadata": {
      "needs_background": "light"
     },
     "output_type": "display_data"
    }
   ],
   "source": [
    "## Emotional Attachment - likert to numbers and sum \n",
    "likert_to_num = {\"Strongly Disagree\":0, \"Somewhat Disagree\":1, \"Neither Agree nor Disagree\": 2, \"Somewhat Agree\":3, \"Strongly Agree\":4}\n",
    "attachment_cols = ['attachments_1', 'attachments_2', 'attachments_3', 'attachments_4']\n",
    "for col in attachment_cols:\n",
    "    responses[col] = responses[col].map(lambda x: likert_to_num[x])\n",
    "    \n",
    "responses['emotional_attachment'] = responses[attachment_cols].sum(axis=1)\n",
    "print(responses['emotional_attachment'].median())\n",
    "responses.hist(column='emotional_attachment')\n",
    "# drop original attachment cols\n",
    "responses = responses.drop(attachment_cols, axis=1)\n",
    "\n",
    "# Saving emotional attachment data description\n",
    "describe_emo = responses['emotional_attachment'].describe()"
   ]
  },
  {
   "cell_type": "code",
   "execution_count": 20,
   "id": "db05debe-1588-4f51-ba2a-67a4ed98f288",
   "metadata": {},
   "outputs": [
    {
     "name": "stdout",
     "output_type": "stream",
     "text": [
      "Emotional Attachment - high low split: \n",
      " low     249\n",
      "high     61\n",
      "Name: emotional_attachment, dtype: int64\n"
     ]
    }
   ],
   "source": [
    "# Categorise emotional attachment at threshold 10\n",
    "responses['emotional_attachment'] = np.where(responses['emotional_attachment'] > 13, 'high', 'low')\n",
    "print(\"Emotional Attachment - high low split: \\n\", responses['emotional_attachment'].value_counts())\n",
    "\n",
    "general_data = save_to_general_data(responses, 'emotional_attachment', 'Emotional Attachment', general_data)"
   ]
  },
  {
   "cell_type": "code",
   "execution_count": 21,
   "id": "ac3b9360-0c74-4384-85ee-c354af975555",
   "metadata": {},
   "outputs": [
    {
     "name": "stdout",
     "output_type": "stream",
     "text": [
      "Rows: 310  Columns: 20\n"
     ]
    }
   ],
   "source": [
    "## Create new column Treatment (env, gov, cont) to categorise different treatments, put all WTP into one column and all whys into one column\n",
    "responses['treatment'] = ''\n",
    "responses['treatment'] = np.where(responses['env_-_q_1'].notnull(), 'env', responses['treatment'])\n",
    "responses['treatment'] = np.where(responses['gov_-_q_1'].notnull(), 'gov', responses['treatment'])\n",
    "responses['treatment'] = np.where(responses['control_-_q_1'].notnull(), 'cont', responses['treatment'])\n",
    "\n",
    "# Save data on counts\n",
    "general_data = save_to_general_data(responses, 'treatment', 'Treatment', general_data)\n",
    "\n",
    "# Combining all WTP to one column\n",
    "q_cols = ['env_-_q_1', 'gov_-_q_1', 'control_-_q_1']\n",
    "responses[q_cols] = responses[q_cols].apply(pd.to_numeric)\n",
    "responses['WTP'] = responses[q_cols].sum(axis=1)\n",
    "responses = responses.drop(q_cols, axis=1)\n",
    "\n",
    "describe_WTP = responses['WTP'].describe()\n",
    "\n",
    "# Combining survey written responses\n",
    "why_cols = ['env_-_why?', 'env_-_why?_4_text', 'control_-_why', 'control_-_why_4_text', 'gov_-_why', 'gov_-_why_4_text']\n",
    "responses['WTP_response'] = responses[why_cols].fillna('').sum(axis=1)\n",
    "responses = responses.drop(why_cols, axis=1)\n",
    "\n",
    "print(\"Rows:\", responses.shape[0], \" Columns:\", responses.shape[1])"
   ]
  },
  {
   "cell_type": "code",
   "execution_count": 22,
   "id": "c862fd69-9d0c-47ab-bc11-8c390d4b20ec",
   "metadata": {},
   "outputs": [
    {
     "name": "stdout",
     "output_type": "stream",
     "text": [
      "Rows: 310  Columns: 21\n"
     ]
    }
   ],
   "source": [
    "## Isolate protest zeros\n",
    "protest_statements = [\"It should be the producer's responsibility to pay\",\n",
    "                      \"Other, please specifyrepairability is important to me but i can't afford a fair phone and the cameras are rubbish on them from seeing my friends\",\n",
    "                      \"Other, please specifyPhones should be made repairable or more durable\"]\n",
    "responses['protest_flag'] = responses['WTP_response'].map(lambda res: True if (res in protest_statements) else False)\n",
    "\n",
    "# Save data on counts\n",
    "general_data = save_to_general_data(responses, 'protest_flag', 'Protest Flag', general_data)\n",
    "\n",
    "print(\"Rows:\", responses.shape[0], \" Columns:\", responses.shape[1])"
   ]
  },
  {
   "cell_type": "code",
   "execution_count": 23,
   "id": "8c4286ba-1960-42a6-bd97-726d23464321",
   "metadata": {},
   "outputs": [],
   "source": [
    "## Willingness to pay as percentage of phone cost\n",
    "describe_p_cost = responses['phone_cost'].describe()\n",
    "\n",
    "responses['phone_cost'] = responses['phone_cost'].apply(pd.to_numeric)\n",
    "responses['WTP_per'] = np.where(responses['phone_cost'] < 1, responses['phone_cost'], responses['WTP']/(responses['phone_cost']))\n",
    "responses['WTP_per']= responses['WTP_per'].round(3)\n",
    "\n",
    "describe_WTP_per = responses['WTP_per'].describe()"
   ]
  },
  {
   "cell_type": "code",
   "execution_count": 24,
   "id": "362f64e5-699b-472c-a6a4-9e0c2b0380c2",
   "metadata": {},
   "outputs": [],
   "source": [
    "## Ethnicity categorisation\n",
    "responses['ethnicity'] = responses['ethnicity'].map(lambda x: \"White\" if (\"White\" in x and \"Mixed\" not in x ) else (\"Prefer not to say\" if x == \"Prefer not to say\" else \"BAME\"))\n",
    "general_data = save_to_general_data(responses, 'ethnicity', 'Ethnicity - categorised', general_data)"
   ]
  },
  {
   "cell_type": "code",
   "execution_count": 25,
   "id": "81b50ff2-24f0-4735-94bf-7c0bcad995db",
   "metadata": {},
   "outputs": [],
   "source": [
    "## Age categorisation\n",
    "responses['age'] = responses['age'].map(lambda x: \"Over 65\" if (x == \"65 - 74\" or x == \"75 - 84\" or x == \"85 or older\"  ) else x)\n",
    "general_data = save_to_general_data(responses, 'age', 'Age - categorised', general_data)"
   ]
  },
  {
   "cell_type": "code",
   "execution_count": 26,
   "id": "de0b3b29-ca76-43e1-b0d3-fa7bed91c891",
   "metadata": {},
   "outputs": [],
   "source": [
    "## Gender categorisation\n",
    "responses['gender'] = responses['gender'].map(lambda x: \"Prefer not to say\" if x == \"Prefer to self-describe\" else x)\n",
    "general_data = save_to_general_data(responses, 'gender', 'Gender - categorised', general_data)"
   ]
  },
  {
   "cell_type": "code",
   "execution_count": 27,
   "id": "28c94bbe-3e54-40fc-95de-c9eecd4b4090",
   "metadata": {},
   "outputs": [],
   "source": [
    "## Combining describe data\n",
    "describe_data = pd.DataFrame({'WTP': describe_WTP,'Phone cost': describe_p_cost,\n",
    "                              'WTP per': describe_WTP_per, 'Emotional Attachment': describe_emo })"
   ]
  },
  {
   "cell_type": "code",
   "execution_count": 28,
   "id": "60686f0a-0d6e-4cbc-967a-fa4e7518ddc2",
   "metadata": {},
   "outputs": [],
   "source": [
    "## Export to CSV\n",
    "responses.to_csv('data/cleaned.csv', index=False)\n",
    "\n",
    "export_cols = ['category', 'subcategory', 'counts'] \n",
    "general_data = general_data[export_cols]\n",
    "general_data.to_csv('data/general_data.csv', index=False)\n",
    "\n",
    "describe_data.to_csv('data/describe_data.csv', index=True)"
   ]
  },
  {
   "cell_type": "markdown",
   "id": "7c2a6581-d1ad-4454-b3cc-2d7eb8d340ec",
   "metadata": {
    "tags": []
   },
   "source": [
    "### Model Preparation"
   ]
  },
  {
   "cell_type": "code",
   "execution_count": 29,
   "id": "0c661796-c06a-4cf2-b1c4-2d61ea21747c",
   "metadata": {},
   "outputs": [
    {
     "name": "stdout",
     "output_type": "stream",
     "text": [
      "Rows: 310  Columns: 13\n"
     ]
    }
   ],
   "source": [
    "## Choose variables wanted for modelling\n",
    "model_vars = ['WTP_per', 'WTP', 'phone_cost', 'protest_flag', 'treatment', 'emotional_attachment', 'gender', 'age', 'ethnicity', 'education', 'employment_status', 'income',\n",
    "             'family_size']\n",
    "df = responses[model_vars].copy()\n",
    "print(\"Rows:\", df.shape[0], \" Columns:\", df.shape[1])"
   ]
  },
  {
   "cell_type": "code",
   "execution_count": 30,
   "id": "c70801ea-8ec6-425b-a7fb-df9191b7a860",
   "metadata": {},
   "outputs": [
    {
     "data": {
      "text/plain": [
       "Younger    244\n",
       "Older       66\n",
       "Name: age_bin, dtype: int64"
      ]
     },
     "execution_count": 30,
     "metadata": {},
     "output_type": "execute_result"
    }
   ],
   "source": [
    "## age categorisation - binary\n",
    "older = [\"Over 65\", \"55 - 64\", \"45 - 54\"]\n",
    "df['age_bin'] = df['age'].map(lambda x: \"Older\" if (x in older ) else \"Younger\")\n",
    "df['age_bin'].value_counts()"
   ]
  },
  {
   "cell_type": "code",
   "execution_count": 31,
   "id": "fd343b2f-5b0a-4d48-a8a6-68507ba6607f",
   "metadata": {},
   "outputs": [
    {
     "data": {
      "text/plain": [
       "Lower Income     228\n",
       "Higher Income     82\n",
       "Name: income_bin, dtype: int64"
      ]
     },
     "execution_count": 31,
     "metadata": {},
     "output_type": "execute_result"
    }
   ],
   "source": [
    "## income categorisation - binary\n",
    "higher_income = [\"£40,000 to £49,999\", \"£50,000 to £59,999\", \"£60,000 to £69,999\",\n",
    "                 \"£70,000 to £79,999\", \"£80,000 to £89,999\", \"£90,000 to £99,999\", \"£100,000 to £149,999\"]\n",
    "df['income_bin'] = df['income'].map(lambda x: \"Higher Income\" if (x in higher_income ) else \"Lower Income\")\n",
    "df['income_bin'].value_counts()"
   ]
  },
  {
   "cell_type": "code",
   "execution_count": 32,
   "id": "6d8d5d7a-6cfc-42d6-9e7a-bfc554f59f85",
   "metadata": {},
   "outputs": [
    {
     "data": {
      "text/plain": [
       "No dependents      220\n",
       "Have dependents     90\n",
       "Name: family_size_bin, dtype: int64"
      ]
     },
     "execution_count": 32,
     "metadata": {},
     "output_type": "execute_result"
    }
   ],
   "source": [
    "## family size categorisation - binary\n",
    "df['family_size_bin'] = df['family_size'].map(lambda x: \"No dependents\" if (x == \"None\" ) else \"Have dependents\")\n",
    "df['family_size_bin'].value_counts()"
   ]
  },
  {
   "cell_type": "code",
   "execution_count": 33,
   "id": "ab90e893-8600-4ae4-b64e-261a924cf02d",
   "metadata": {},
   "outputs": [
    {
     "data": {
      "text/plain": [
       "Standard Education        156\n",
       "Higher Level Education    154\n",
       "Name: education_bin, dtype: int64"
      ]
     },
     "execution_count": 33,
     "metadata": {},
     "output_type": "execute_result"
    }
   ],
   "source": [
    "## education categorisation - binary\n",
    "higher_edu = [\"Master's degree\", \"Doctoral degree\"]\n",
    "df['education_bin'] = df['education'].map(lambda x: \"Higher Level Education\" if (x in higher_edu ) else \"Standard Education\")\n",
    "df['education_bin'].value_counts()"
   ]
  },
  {
   "cell_type": "code",
   "execution_count": 34,
   "id": "c03523c7-4748-4c4b-aa47-95ceb9dafb7c",
   "metadata": {},
   "outputs": [
    {
     "data": {
      "text/plain": [
       "Employed        189\n",
       "Not employed    121\n",
       "Name: employment_bin, dtype: int64"
      ]
     },
     "execution_count": 34,
     "metadata": {},
     "output_type": "execute_result"
    }
   ],
   "source": [
    "## employment status categorisation - binary\n",
    "employed = [\"In full-time employment\", \"In part-time employment\", \"Self employed\"]\n",
    "df['employment_bin'] = df['employment_status'].map(lambda x: \"Employed\" if (x in employed) else \"Not employed\")\n",
    "df['employment_bin'].value_counts()"
   ]
  },
  {
   "cell_type": "code",
   "execution_count": 35,
   "id": "ff27cb7d-0a77-4f99-9f9e-1831cf1628e1",
   "metadata": {},
   "outputs": [],
   "source": [
    "## Categorical expansion - one hot encoding\n",
    "categorical_cols = ['treatment', 'emotional_attachment', 'gender', 'age', 'ethnicity',\n",
    "                    'education', 'employment_status', 'income', 'family_size',\n",
    "                    'education_bin', 'family_size_bin', 'income_bin', 'age_bin', 'employment_bin']\n",
    "\n",
    "OH_encoder = OneHotEncoder(handle_unknown='ignore', sparse=False)\n",
    "OH_res = pd.DataFrame(OH_encoder.fit_transform(df[categorical_cols]))\n",
    "OH_res.columns = OH_encoder.get_feature_names_out(categorical_cols)\n",
    "OH_res.index = df.index\n",
    "\n",
    "model_data = pd.concat([df, OH_res], axis=1)\n",
    "model_data = model_data.drop(categorical_cols, axis=1)"
   ]
  },
  {
   "cell_type": "code",
   "execution_count": 36,
   "id": "ff67d933-fd0b-44b2-a6f5-8944e28fbc89",
   "metadata": {},
   "outputs": [
    {
     "data": {
      "text/plain": [
       "Index(['WTP_per', 'WTP', 'phone_cost', 'protest_flag', 'treatment_cont',\n",
       "       'treatment_env', 'treatment_gov', 'emotional_attachment_high',\n",
       "       'emotional_attachment_low', 'gender_Female', 'gender_Male',\n",
       "       'gender_Non-binary / third gender', 'gender_Prefer not to say',\n",
       "       'age_18 - 24', 'age_25 - 34', 'age_35 - 44', 'age_45 - 54',\n",
       "       'age_55 - 64', 'age_Over 65', 'age_Under 18', 'ethnicity_BAME',\n",
       "       'ethnicity_Prefer not to say', 'ethnicity_White',\n",
       "       'education_Doctoral degree',\n",
       "       'education_Further education (16+, A-Levels, BTEC, etc.)',\n",
       "       'education_Master's degree', 'education_Other, please specify',\n",
       "       'education_Prefer not to say', 'education_Primary school',\n",
       "       'education_Secondary school (up to 16 years)',\n",
       "       'education_Undergraduate degree',\n",
       "       'employment_status_In full-time education',\n",
       "       'employment_status_In full-time employment',\n",
       "       'employment_status_In part-time employment',\n",
       "       'employment_status_Not in employment',\n",
       "       'employment_status_Self employed', 'income_Less than £10,000',\n",
       "       'income_Not sure', 'income_Prefer not to say',\n",
       "       'income_£10,000 to £19,999', 'income_£100,000 to £149,999',\n",
       "       'income_£150,000 or more', 'income_£20,000 to £29,999',\n",
       "       'income_£30,000 to £39,999', 'income_£40,000 to £49,999',\n",
       "       'income_£50,000 to £59,999', 'income_£60,000 to £69,999',\n",
       "       'income_£70,000 to £79,999', 'income_£80,000 to £89,999',\n",
       "       'income_£90,000 to £99,999', 'family_size_1', 'family_size_2',\n",
       "       'family_size_3', 'family_size_4', 'family_size_5 or more',\n",
       "       'family_size_None', 'education_bin_Higher Level Education',\n",
       "       'education_bin_Standard Education', 'family_size_bin_Have dependents',\n",
       "       'family_size_bin_No dependents', 'income_bin_Higher Income',\n",
       "       'income_bin_Lower Income', 'age_bin_Older', 'age_bin_Younger',\n",
       "       'employment_bin_Employed', 'employment_bin_Not employed'],\n",
       "      dtype='object')"
      ]
     },
     "execution_count": 36,
     "metadata": {},
     "output_type": "execute_result"
    }
   ],
   "source": [
    "model_data.columns"
   ]
  },
  {
   "cell_type": "code",
   "execution_count": 37,
   "id": "63db2ab6-2748-4930-8615-6d7a66ff2223",
   "metadata": {},
   "outputs": [],
   "source": [
    "## Export to CSV\n",
    "model_data.to_csv('data/model.csv', index=False)"
   ]
  },
  {
   "cell_type": "markdown",
   "id": "f94b944c-e153-4cdc-8aa4-4be29e88902e",
   "metadata": {
    "tags": []
   },
   "source": [
    "### Modeling"
   ]
  },
  {
   "cell_type": "code",
   "execution_count": 38,
   "id": "9e6e88fd-98fd-42d3-a69e-29e740ff366c",
   "metadata": {},
   "outputs": [],
   "source": [
    "baseline_vars = ['treatment_cont', 'emotional_attachment_low', 'gender_Female', 'age_18 - 24',\n",
    "                 'ethnicity_White', \"education_Master's degree\", \"employment_status_In full-time employment\",\n",
    "                \"income_Less than £10,000\", 'family_size_None', \n",
    "                 'education_bin_Standard Education', 'family_size_bin_No dependents', 'income_bin_Lower Income', 'age_bin_Younger', 'employment_bin_Employed']\n",
    "\n",
    "drop_vars = ['gender_Non-binary / third gender', 'gender_Prefer not to say', 'income_Not sure', \n",
    "             'income_Prefer not to say', 'education_Prefer not to say', 'education_Other, please specify', \n",
    "             'ethnicity_Prefer not to say']"
   ]
  },
  {
   "cell_type": "code",
   "execution_count": 39,
   "id": "f11e114d-c037-4d1e-a790-06789323c5e8",
   "metadata": {},
   "outputs": [],
   "source": [
    "treatment_vars= []\n",
    "emo_vars = []\n",
    "eth_vars = []\n",
    "gender_vars = []\n",
    "age_vars = []\n",
    "age_bin_vars = []\n",
    "edu_vars = []\n",
    "edu_bin_vars = []\n",
    "emp_vars = []\n",
    "emp_bin_vars = []\n",
    "income_vars = []\n",
    "income_bin_vars = []\n",
    "fam_vars = []\n",
    "fam_bin_vars = []\n",
    "\n",
    "for col in model_data.columns:\n",
    "    if col not in baseline_vars and col not in drop_vars:\n",
    "        if 'treatment' in col:\n",
    "            treatment_vars.append(col)\n",
    "        elif 'emotional' in col:\n",
    "            emo_vars.append(col)\n",
    "        elif 'ethnicity' in col:\n",
    "            eth_vars.append(col)\n",
    "        elif 'gender' in col:\n",
    "            gender_vars.append(col)\n",
    "        elif 'age' in col:\n",
    "            if 'age_bin' in col:\n",
    "                age_bin_vars.append(col)\n",
    "            else:\n",
    "                age_vars.append(col)\n",
    "        elif 'employment' in col:\n",
    "            if 'employment_bin' in col:\n",
    "                emp_bin_vars.append(col)\n",
    "            else:\n",
    "                emp_vars.append(col)\n",
    "        elif'education' in col:\n",
    "            if 'education_bin' in col:\n",
    "                edu_bin_vars.append(col)\n",
    "            elif 'education_' in col:\n",
    "                edu_vars.append(col)\n",
    "        elif 'income' in col:\n",
    "            if 'income_bin' in col:\n",
    "                income_bin_vars.append(col)\n",
    "            else:\n",
    "                income_vars.append(col)\n",
    "        elif 'family' in col:\n",
    "            if 'family_size_bin' in col:\n",
    "                fam_bin_vars.append(col)\n",
    "            else:\n",
    "                fam_vars.append(col)"
   ]
  },
  {
   "cell_type": "code",
   "execution_count": 40,
   "id": "5d07d2f8-4815-47b7-89a0-86954a7f41df",
   "metadata": {},
   "outputs": [],
   "source": [
    "## Relationship columns\n",
    "relationship_vars = []\n",
    "bin_vars = eth_vars + gender_vars + age_bin_vars + edu_bin_vars + emp_bin_vars + income_bin_vars + fam_bin_vars + emo_vars\n",
    "for treat in treatment_vars:\n",
    "    for bi in bin_vars:\n",
    "        col_name = treat+' x '+ bi\n",
    "        relationship_vars.append(col_name)\n",
    "        model_data[col_name] = model_data[treat].multiply(model_data[bi])"
   ]
  },
  {
   "cell_type": "code",
   "execution_count": 41,
   "id": "27c42ef8-2176-4708-bb1f-1da71b974988",
   "metadata": {},
   "outputs": [],
   "source": [
    "model_data = model_data.drop(model_data[model_data['protest_flag']== True].index)\n",
    "\n",
    "model_data_cont = model_data.copy().drop(model_data[model_data['treatment_cont']== 0].index) \n",
    "model_data_env = model_data.copy().drop(model_data[model_data['treatment_env']== 0].index)\n",
    "model_data_gov = model_data.copy().drop(model_data[model_data['treatment_gov']== 0].index)"
   ]
  },
  {
   "cell_type": "code",
   "execution_count": 42,
   "id": "fe899038-437c-425e-83ea-d3dcc0af27b5",
   "metadata": {},
   "outputs": [
    {
     "data": {
      "text/plain": [
       "['treatment_env x ethnicity_BAME',\n",
       " 'treatment_env x gender_Male',\n",
       " 'treatment_env x age_bin_Older',\n",
       " 'treatment_env x education_bin_Higher Level Education',\n",
       " 'treatment_env x employment_bin_Not employed',\n",
       " 'treatment_env x income_bin_Higher Income',\n",
       " 'treatment_env x family_size_bin_Have dependents',\n",
       " 'treatment_env x emotional_attachment_high',\n",
       " 'treatment_gov x ethnicity_BAME',\n",
       " 'treatment_gov x gender_Male',\n",
       " 'treatment_gov x age_bin_Older',\n",
       " 'treatment_gov x education_bin_Higher Level Education',\n",
       " 'treatment_gov x employment_bin_Not employed',\n",
       " 'treatment_gov x income_bin_Higher Income',\n",
       " 'treatment_gov x family_size_bin_Have dependents',\n",
       " 'treatment_gov x emotional_attachment_high']"
      ]
     },
     "execution_count": 42,
     "metadata": {},
     "output_type": "execute_result"
    }
   ],
   "source": [
    "relationship_vars"
   ]
  },
  {
   "cell_type": "markdown",
   "id": "996beba2-b942-48e4-8de8-346af454437b",
   "metadata": {
    "tags": []
   },
   "source": [
    "## Final Modelling"
   ]
  },
  {
   "cell_type": "code",
   "execution_count": 43,
   "id": "5008035c-b42e-474b-a915-08dfc4a90a29",
   "metadata": {},
   "outputs": [],
   "source": [
    "def saving_experiments(exp_list, file_name, env_coef, gov_coef, save_flag=True):\n",
    "    for ex in exp_list:\n",
    "        if(save_flag):\n",
    "            p = ex.params\n",
    "            env_coef.append(p['treatment_env'])\n",
    "            gov_coef.append(p['treatment_gov'])\n",
    "        temp = pd.DataFrame(ex.summary().tables[1])\n",
    "        temp.to_csv('results/'+file_name, mode='a', index=False, header=False)\n",
    "    return (env_coef, gov_coef)"
   ]
  },
  {
   "cell_type": "code",
   "execution_count": 44,
   "id": "73692fe1-c97c-41c6-a949-09510e25a332",
   "metadata": {},
   "outputs": [],
   "source": [
    "def mean_confidence_interval(data=[], confidence=0.95):\n",
    "    mean = []\n",
    "    ci = []\n",
    "    for s in data:\n",
    "        a = 1.0 * np.array(s)\n",
    "        n = len(a)\n",
    "        m, se = np.mean(a), st.sem(a)\n",
    "        h = se * st.t.ppf((1 + confidence) / 2., n-1)\n",
    "        mean.append(m)\n",
    "        ci.append(h)\n",
    "        \n",
    "    return mean, ci"
   ]
  },
  {
   "cell_type": "code",
   "execution_count": 45,
   "id": "b8e3205c-c6fd-4fb8-8f15-e5fbc01c252e",
   "metadata": {},
   "outputs": [],
   "source": [
    "# Saving treatment coefficients\n",
    "env_coef = []\n",
    "gov_coef = []"
   ]
  },
  {
   "cell_type": "markdown",
   "id": "db46d3af-bddd-47fc-96ae-7220a43c7a89",
   "metadata": {
    "tags": []
   },
   "source": [
    "### Results 1: WTP and WTP% data "
   ]
  },
  {
   "cell_type": "code",
   "execution_count": 46,
   "id": "41b1ab69-d93a-4e19-9628-1b0e111ef779",
   "metadata": {},
   "outputs": [
    {
     "data": {
      "text/plain": [
       "<AxesSubplot:ylabel='Frequency'>"
      ]
     },
     "execution_count": 46,
     "metadata": {},
     "output_type": "execute_result"
    },
    {
     "data": {
      "image/png": "[encoded data removed]",
      "text/plain": [
       "<Figure size 432x288 with 1 Axes>"
      ]
     },
     "metadata": {
      "needs_background": "light"
     },
     "output_type": "display_data"
    }
   ],
   "source": [
    "model_data['WTP'].plot(kind='hist')"
   ]
  },
  {
   "cell_type": "code",
   "execution_count": 47,
   "id": "cd9596d9-5585-4c47-adb5-af89e34a371a",
   "metadata": {},
   "outputs": [],
   "source": [
    "data_wtp = [model_data['WTP'], model_data_cont['WTP'], model_data_env['WTP'], model_data_gov['WTP']]\n",
    "mean_WTP, ci_WTP = mean_confidence_interval(data_wtp)"
   ]
  },
  {
   "cell_type": "code",
   "execution_count": 48,
   "id": "05769cbd-62bd-4de2-9edd-5f21c75ee3a5",
   "metadata": {},
   "outputs": [],
   "source": [
    "data_wtp_per = [model_data['WTP_per'], model_data_cont['WTP_per'], model_data_env['WTP_per'], model_data_gov['WTP_per']]\n",
    "mean_WTP_per, ci_WTP_per = mean_confidence_interval(data_wtp_per)"
   ]
  },
  {
   "cell_type": "code",
   "execution_count": 49,
   "id": "e6e66767-8c21-4d8b-ae27-47f5dfe4ce02",
   "metadata": {},
   "outputs": [],
   "source": [
    "res1_data = pd.DataFrame({'Mean WTP': mean_WTP,'Confidence Interval WTP': ci_WTP,\n",
    "                              'Mean WTP per': mean_WTP_per, 'Confidence Interval WTP oer': ci_WTP_per })\n",
    "res1_data.to_csv('res1.csv', index=False)"
   ]
  },
  {
   "cell_type": "markdown",
   "id": "1cf1cc96-eed9-4167-afb2-d0d509151b25",
   "metadata": {
    "tags": []
   },
   "source": [
    "### Experiment 2: Seperate regression with core variables and socioeconomic variables"
   ]
  },
  {
   "cell_type": "code",
   "execution_count": 50,
   "id": "f7c2da58-b475-465c-8dd2-10050986bcaf",
   "metadata": {},
   "outputs": [],
   "source": [
    "# Model 6: All - X (income + education + employment + fam)\n",
    "mod6_vars = treatment_vars + income_vars + edu_vars + emp_vars + fam_vars\n",
    "mod6_X = model_data[mod6_vars]\n",
    "mod6_y = model_data['WTP_per']\n",
    "\n",
    "mod6 = sm.OLS(mod6_y, mod6_X)\n",
    "res6 = mod6.fit()"
   ]
  },
  {
   "cell_type": "code",
   "execution_count": 51,
   "id": "6c8cd8cc-bee6-484b-a38f-1b001fb6bcd1",
   "metadata": {},
   "outputs": [
    {
     "ename": "NameError",
     "evalue": "name 'res1' is not defined",
     "output_type": "error",
     "traceback": [
      "\u001b[0;31m---------------------------------------------------------------------------\u001b[0m",
      "\u001b[0;31mNameError\u001b[0m                                 Traceback (most recent call last)",
      "Input \u001b[0;32mIn [51]\u001b[0m, in \u001b[0;36m<cell line: 1>\u001b[0;34m()\u001b[0m\n\u001b[0;32m----> 1\u001b[0m exp_2 \u001b[38;5;241m=\u001b[39m [\u001b[43mres1\u001b[49m, res6]\n\u001b[1;32m      2\u001b[0m env_coef, gov_coef \u001b[38;5;241m=\u001b[39m saving_experiments(exp_2, \u001b[38;5;124m'\u001b[39m\u001b[38;5;124mexperiment_2.csv\u001b[39m\u001b[38;5;124m'\u001b[39m, env_coef, gov_coef)\n",
      "\u001b[0;31mNameError\u001b[0m: name 'res1' is not defined"
     ]
    }
   ],
   "source": [
    "exp_2 = [res6]\n",
    "env_coef, gov_coef = saving_experiments(exp_2, 'experiment_2.csv', env_coef, gov_coef)"
   ]
  },
  {
   "cell_type": "markdown",
   "id": "51c15d9d-7776-44ed-bbd9-5f45b7626df7",
   "metadata": {
    "tags": []
   },
   "source": [
    "### Experiment 3: Emotional attachment regression with both treatments"
   ]
  },
  {
   "cell_type": "code",
   "execution_count": 53,
   "id": "b47caf6d-1f01-45cd-bbea-7f3205f93dd0",
   "metadata": {},
   "outputs": [],
   "source": [
    "# Model 7: All - X (treatments + emotional)\n",
    "mod7_vars = treatment_vars + emo_vars + ['phone_cost']\n",
    "mod7_X = model_data[mod7_vars]\n",
    "mod7_y = model_data['WTP']\n",
    "\n",
    "mod7 = sm.OLS(mod7_y, mod7_X)\n",
    "res7 = mod7.fit()"
   ]
  },
  {
   "cell_type": "code",
   "execution_count": 41,
   "id": "3fd3604e-09aa-4476-b6ed-2b59fd30f463",
   "metadata": {},
   "outputs": [],
   "source": [
    "exp_3 = [res7]\n",
    "env_coef, gov_coef = saving_experiments(exp_3, 'res_3.csv', env_coef, gov_coef, False)"
   ]
  },
  {
   "cell_type": "markdown",
   "id": "567407f4-74c6-4ab6-b4cd-3322fede4bb7",
   "metadata": {
    "tags": []
   },
   "source": [
    "### Experiment 4: Relationship between env treatment and each demographic variable"
   ]
  },
  {
   "cell_type": "code",
   "execution_count": 42,
   "id": "19651876-1e5c-40de-952c-0b34f4692d7f",
   "metadata": {},
   "outputs": [],
   "source": [
    "# Model 8: All - X (treatments + gender + treatment x gender)\n",
    "mod8_vars = treatment_vars  + bin_vars + ['treatment_env x gender_Male', 'treatment_gov x gender_Male', 'phone_cost']\n",
    "mod8_X = model_data[mod8_vars]\n",
    "mod8_y = model_data['WTP']\n",
    "\n",
    "mod8 = sm.OLS(mod8_y, mod8_X)\n",
    "res8 = mod8.fit()"
   ]
  },
  {
   "cell_type": "code",
   "execution_count": 43,
   "id": "1d071a15-df6c-4a4a-b9e7-aa935b70bfa2",
   "metadata": {},
   "outputs": [],
   "source": [
    "# Model 9: All - X (treatments + ethnicity + treatment x ethnicity)\n",
    "mod9_vars = treatment_vars + bin_vars + ['treatment_env x ethnicity_BAME', 'treatment_gov x ethnicity_BAME', 'phone_cost']\n",
    "mod9_X = model_data[mod9_vars]\n",
    "mod9_y = model_data['WTP']\n",
    "\n",
    "mod9 = sm.OLS(mod9_y, mod9_X)\n",
    "res9 = mod9.fit()"
   ]
  },
  {
   "cell_type": "code",
   "execution_count": 44,
   "id": "763c2604-3ed7-4de6-8d16-e156cb1d9c65",
   "metadata": {},
   "outputs": [],
   "source": [
    "# Model 10: All - X (treatments + age + treatment x age)\n",
    "mod10_vars = treatment_vars + bin_vars + ['treatment_env x age_bin_Older', 'treatment_gov x age_bin_Older', 'phone_cost']\n",
    "mod10_X = model_data[mod10_vars]\n",
    "mod10_y = model_data['WTP']\n",
    "\n",
    "mod10 = sm.OLS(mod10_y, mod10_X)\n",
    "res10 = mod10.fit()"
   ]
  },
  {
   "cell_type": "code",
   "execution_count": 45,
   "id": "48a08af6-c125-44e9-ba1b-882762ac8119",
   "metadata": {},
   "outputs": [],
   "source": [
    "# Model 11 :All - X (treatments + income + treatment x income)\n",
    "mod11_vars = treatment_vars + bin_vars + ['treatment_env x income_bin_Higher Income', 'treatment_gov x income_bin_Higher Income', 'phone_cost']\n",
    "mod11_X = model_data[mod11_vars]\n",
    "mod11_y = model_data['WTP']\n",
    "\n",
    "mod11 = sm.OLS(mod11_y, mod11_X)\n",
    "res11 = mod11.fit()"
   ]
  },
  {
   "cell_type": "code",
   "execution_count": 46,
   "id": "de4e65b0-7495-470d-8eb2-efbbad08f7f7",
   "metadata": {},
   "outputs": [],
   "source": [
    "# Model 12 :All - X (treatments + employment + treatment x employment)\n",
    "mod12_vars = treatment_vars + bin_vars + ['treatment_env x employment_bin_Not employed', 'treatment_gov x employment_bin_Not employed', 'phone_cost']\n",
    "mod12_X = model_data[mod12_vars]\n",
    "mod12_y = model_data['WTP']\n",
    "\n",
    "mod12 = sm.OLS(mod12_y, mod12_X)\n",
    "res12 = mod12.fit()"
   ]
  },
  {
   "cell_type": "code",
   "execution_count": 47,
   "id": "7a8208c2-845e-4c44-8e83-922fe56cfa9e",
   "metadata": {},
   "outputs": [],
   "source": [
    "# Model 13 :All - X (treatments + family size + treatment x family size)\n",
    "mod13_vars = treatment_vars + bin_vars + ['treatment_env x family_size_bin_Have dependents', 'treatment_gov x family_size_bin_Have dependents', 'phone_cost']\n",
    "mod13_X = model_data[mod13_vars]\n",
    "mod13_y = model_data['WTP']\n",
    "\n",
    "mod13 = sm.OLS(mod13_y, mod13_X)\n",
    "res13 = mod13.fit()"
   ]
  },
  {
   "cell_type": "code",
   "execution_count": 48,
   "id": "e574d38f-9337-45c0-8bbf-fa15bc99c704",
   "metadata": {},
   "outputs": [],
   "source": [
    "# Model 14 :All - X (treatments + edu + treatment x edu)\n",
    "mod14_vars = treatment_vars + bin_vars + ['treatment_env x education_bin_Higher Level Education', 'treatment_gov x education_bin_Higher Level Education', 'phone_cost']\n",
    "mod14_X = model_data[mod14_vars]\n",
    "mod14_y = model_data['WTP']\n",
    "\n",
    "mod14 = sm.OLS(mod14_y, mod14_X)\n",
    "res14 = mod14.fit()"
   ]
  },
  {
   "cell_type": "code",
   "execution_count": 49,
   "id": "c918eefa-5dee-43c4-9e22-db0aeeb0ea94",
   "metadata": {},
   "outputs": [],
   "source": [
    "# Model 15 :All - X (treatments + emo + treatment x emo)\n",
    "mod15_vars = treatment_vars + bin_vars + emo_vars + ['treatment_env x emotional_attachment_high', 'treatment_gov x emotional_attachment_high', 'phone_cost']\n",
    "mod15_X = model_data[mod15_vars]\n",
    "mod15_y = model_data['WTP']\n",
    "\n",
    "mod15 = sm.OLS(mod15_y, mod15_X)\n",
    "res15 = mod15.fit()"
   ]
  },
  {
   "cell_type": "code",
   "execution_count": 53,
   "id": "9bdea989-0292-4bfe-8736-558fcf7ccdc2",
   "metadata": {},
   "outputs": [],
   "source": [
    "# Model 16 :All - X (treatments + emo + treatment x emo)\n",
    "mod16_vars = treatment_vars + bin_vars +  relationship_vars + ['phone_cost']\n",
    "mod16_X = model_data[mod16_vars]\n",
    "mod16_y = model_data['WTP']\n",
    "\n",
    "mod16 = sm.OLS(mod16_y, mod16_X)\n",
    "res16 = mod16.fit()"
   ]
  },
  {
   "cell_type": "code",
   "execution_count": 50,
   "id": "d93fb5c6-ec51-46a2-92f0-d64b0c888c69",
   "metadata": {},
   "outputs": [],
   "source": [
    "#TODO (maybe no saving coefficients)\n",
    "exp_4 = [res8, res9, res10, res11, res12, res13, res14, res15]\n",
    "env_coef, gov_coef = saving_experiments(exp_4, 'res_4.csv', env_coef, gov_coef, False)"
   ]
  },
  {
   "cell_type": "code",
   "execution_count": 54,
   "id": "39c685a6-933f-40fe-958c-d14cddef8b32",
   "metadata": {},
   "outputs": [],
   "source": [
    "#TODO (maybe no saving coefficients)\n",
    "exp_4a = [res16]\n",
    "env_coef, gov_coef = saving_experiments(exp_4a, 'res_7.csv', env_coef, gov_coef, False)"
   ]
  },
  {
   "cell_type": "markdown",
   "id": "8df8d8e7-527c-4f11-999a-b67dad5e88e7",
   "metadata": {
    "jp-MarkdownHeadingCollapsed": true,
    "tags": []
   },
   "source": [
    "### Experiment 5: T-test for treatment coefficients"
   ]
  },
  {
   "cell_type": "code",
   "execution_count": 120,
   "id": "21451876-36e1-4437-9bc7-24c18535edc8",
   "metadata": {},
   "outputs": [
    {
     "name": "stdout",
     "output_type": "stream",
     "text": [
      "t val: 6.967418164824702 p val: 6.579031130223904e-06 degrees of freedom: 14.0\n"
     ]
    }
   ],
   "source": [
    "t_test = sm.stats.ttest_ind(gov_coef, env_coef)\n",
    "print(\"t val:\", t_test[0], \"p val:\", t_test[1], \"degrees of freedom:\", t_test[2])"
   ]
  },
  {
   "cell_type": "code",
   "execution_count": 106,
   "id": "9fe62f7f-bebb-4df1-bfc4-ba594e98acc7",
   "metadata": {},
   "outputs": [
    {
     "data": {
      "text/plain": [
       "[27.231989954501454,\n",
       " 27.179814447469436,\n",
       " 24.135359680809078,\n",
       " 20.960637780235086,\n",
       " 20.617532883951778,\n",
       " 27.231989954501454,\n",
       " 22.590380438882605,\n",
       " 36.39483874918492]"
      ]
     },
     "execution_count": 106,
     "metadata": {},
     "output_type": "execute_result"
    }
   ],
   "source": [
    "env_coef"
   ]
  },
  {
   "cell_type": "markdown",
   "id": "0bcd60ed-3d89-4e89-8d35-a910c3647786",
   "metadata": {
    "tags": []
   },
   "source": [
    "### Experiment 6: Increasing socio economic variables until we have full model with all variables"
   ]
  },
  {
   "cell_type": "code",
   "execution_count": 110,
   "id": "64a4b4db-b17f-48d8-befc-ef445c4c2aac",
   "metadata": {},
   "outputs": [],
   "source": [
    "# Model 22: All - X (treatment_vars, core)\n",
    "mod22_vars = treatment_vars + age_vars + gender_vars + eth_vars + ['phone_cost']\n",
    "mod22_X = model_data[mod22_vars]\n",
    "mod22_y = model_data['WTP']\n",
    "\n",
    "mod22 = sm.OLS(mod22_y, mod22_X)\n",
    "res22 = mod22.fit()"
   ]
  },
  {
   "cell_type": "code",
   "execution_count": 111,
   "id": "6f2262d6-3eb6-41a3-a150-11d2fb46cd61",
   "metadata": {},
   "outputs": [],
   "source": [
    "# Model 23: All - X (treatment_vars, core + income)\n",
    "mod23_vars = treatment_vars + age_vars + gender_vars + eth_vars + income_vars + ['phone_cost']\n",
    "mod23_X = model_data[mod23_vars]\n",
    "mod23_y = model_data['WTP']\n",
    "\n",
    "mod23 = sm.OLS(mod23_y, mod23_X)\n",
    "res23 = mod23.fit()"
   ]
  },
  {
   "cell_type": "code",
   "execution_count": 112,
   "id": "c6169b5d-b071-4441-8241-717b64faae4b",
   "metadata": {},
   "outputs": [],
   "source": [
    "# Model 24: All - X (treatment_vars, core + income + education)\n",
    "mod24_vars = treatment_vars + age_vars + gender_vars + eth_vars + income_vars + edu_vars + ['phone_cost']\n",
    "mod24_X = model_data[mod24_vars]\n",
    "mod24_y = model_data['WTP']\n",
    "\n",
    "mod24 = sm.OLS(mod24_y, mod24_X)\n",
    "res24 = mod24.fit()"
   ]
  },
  {
   "cell_type": "code",
   "execution_count": 113,
   "id": "7f7bdd4d-c649-4754-a6ad-6f0967c7b0e8",
   "metadata": {},
   "outputs": [],
   "source": [
    "# Model 25: All - X (treatment_vars, core + income + education + employment)\n",
    "mod25_vars = treatment_vars + age_vars + gender_vars + eth_vars + income_vars + edu_vars + emp_vars + ['phone_cost']\n",
    "mod25_X = model_data[mod25_vars]\n",
    "mod25_y = model_data['WTP']\n",
    "\n",
    "mod25 = sm.OLS(mod25_y, mod25_X)\n",
    "res25 = mod25.fit()"
   ]
  },
  {
   "cell_type": "code",
   "execution_count": 51,
   "id": "59f44e41-bafb-4c07-9d54-45c0b0dc7951",
   "metadata": {},
   "outputs": [],
   "source": [
    "# Model 26: All - X (treatment_vars, core + income + education + employment + fam [ALL])\n",
    "mod26_vars = treatment_vars + bin_vars + ['phone_cost']\n",
    "mod26_X = model_data[mod26_vars]\n",
    "mod26_y = model_data['WTP']\n",
    "\n",
    "mod26 = sm.OLS(mod26_y, mod26_X)\n",
    "res26 = mod26.fit()"
   ]
  },
  {
   "cell_type": "code",
   "execution_count": 52,
   "id": "c71955d6-9b85-41cd-88d6-a58f7a9b2720",
   "metadata": {},
   "outputs": [],
   "source": [
    "exp_6 = [res26]\n",
    "env_coef, gov_coef = saving_experiments(exp_6, 'res_6.csv', env_coef, gov_coef)"
   ]
  },
  {
   "cell_type": "code",
   "execution_count": 35,
   "id": "1cc70a81-d16f-439e-9ae0-9e2d88e6c4da",
   "metadata": {},
   "outputs": [],
   "source": [
    "# Model 27: All - X (treatment_vars, core + income + education + employment + fam [ALL])\n",
    "mod27_vars = treatment_vars + eth_vars + gender_vars + age_vars + edu_vars + emp_vars + income_vars + fam_vars + emo_vars + ['phone_cost']\n",
    "mod27_X = model_data[mod27_vars]\n",
    "mod27_y = model_data['WTP']\n",
    "\n",
    "mod27 = sm.OLS(mod27_y, mod27_X)\n",
    "res27 = mod27.fit()"
   ]
  },
  {
   "cell_type": "code",
   "execution_count": 36,
   "id": "54244a14-dcb3-41fb-b033-385937ee2551",
   "metadata": {},
   "outputs": [],
   "source": [
    "exp_7 = [res27]\n",
    "env_coef, gov_coef = saving_experiments(exp_7, 'res_7.csv', env_coef, gov_coef)"
   ]
  },
  {
   "cell_type": "code",
   "execution_count": 78,
   "id": "6b685909-0e42-4bdd-af85-980ca7fe96a1",
   "metadata": {},
   "outputs": [
    {
     "name": "stdout",
     "output_type": "stream",
     "text": [
      "[ 1.76324241  1.491881    0.01093343  0.11963783 -0.75453028]\n"
     ]
    }
   ],
   "source": [
    "rvs1 = st.norm.rvs(loc=1, scale=1, size=5)\n",
    "print(rvs1)"
   ]
  },
  {
   "cell_type": "code",
   "execution_count": 73,
   "id": "e9cdf982-07b4-470f-aa1d-a0847e579d2f",
   "metadata": {},
   "outputs": [
    {
     "data": {
      "text/plain": [
       "Ttest_indResult(statistic=9.513563615725063, pvalue=4.241324928015273e-20)"
      ]
     },
     "execution_count": 73,
     "metadata": {},
     "output_type": "execute_result"
    }
   ],
   "source": [
    "rvs1 = st.norm.rvs(loc=61, scale=21, size=len(model_data['WTP']))\n",
    "st.ttest_ind(model_data['WTP'], rvs1)"
   ]
  },
  {
   "cell_type": "code",
   "execution_count": 74,
   "id": "19aa70c9-7c76-4320-a0cc-c3abd452c9a9",
   "metadata": {},
   "outputs": [
    {
     "data": {
      "text/plain": [
       "Ttest_indResult(statistic=5.263880923003739, pvalue=3.396049537587895e-07)"
      ]
     },
     "execution_count": 74,
     "metadata": {},
     "output_type": "execute_result"
    }
   ],
   "source": [
    "rvs2 = st.norm.rvs(loc=61, scale=21, size=len(model_data_cont['WTP']))\n",
    "st.ttest_ind(model_data_cont['WTP'], rvs2)"
   ]
  },
  {
   "cell_type": "code",
   "execution_count": 68,
   "id": "4cb45a1d-ed69-44b2-9922-d5611a92ae2e",
   "metadata": {},
   "outputs": [
    {
     "data": {
      "text/plain": [
       "Ttest_indResult(statistic=-5.494028537857255, pvalue=1.2370248765754503e-07)"
      ]
     },
     "execution_count": 68,
     "metadata": {},
     "output_type": "execute_result"
    }
   ],
   "source": [
    "rvs3 = st.norm.rvs(loc=61, scale=21, size=len(model_data_env['WTP']))\n",
    "st.ttest_ind(rvs3, model_data_env['WTP'])"
   ]
  },
  {
   "cell_type": "code",
   "execution_count": 69,
   "id": "164cc68d-4823-4c3c-9d78-bdc1a47270cf",
   "metadata": {},
   "outputs": [
    {
     "data": {
      "text/plain": [
       "Ttest_indResult(statistic=-6.526435966914111, pvalue=5.626508871631182e-10)"
      ]
     },
     "execution_count": 69,
     "metadata": {},
     "output_type": "execute_result"
    }
   ],
   "source": [
    "rvs4 = st.norm.rvs(loc=61, scale=21, size=len(model_data_gov['WTP']))\n",
    "st.ttest_ind(rvs4, model_data_gov['WTP'])"
   ]
  },
  {
   "cell_type": "code",
   "execution_count": 72,
   "id": "f4e20355-c146-48ec-9d6d-ea8581ee489b",
   "metadata": {},
   "outputs": [
    {
     "data": {
      "text/plain": [
       "60.538494482280846"
      ]
     },
     "execution_count": 72,
     "metadata": {},
     "output_type": "execute_result"
    }
   ],
   "source": [
    "model_data_cont[\"WTP\"].mean()"
   ]
  },
  {
   "cell_type": "code",
   "execution_count": null,
   "id": "74c42502-6a82-4e4b-942c-1b75082f6b99",
   "metadata": {},
   "outputs": [],
   "source": []
  }
 ],
 "metadata": {
  "kernelspec": {
   "display_name": "Python 3 (ipykernel)",
   "language": "python",
   "name": "python3"
  },
  "language_info": {
   "codemirror_mode": {
    "name": "ipython",
    "version": 3
   },
   "file_extension": ".py",
   "mimetype": "text/x-python",
   "name": "python",
   "nbconvert_exporter": "python",
   "pygments_lexer": "ipython3",
   "version": "3.9.10"
  }
 },
 "nbformat": 4,
 "nbformat_minor": 5
}
